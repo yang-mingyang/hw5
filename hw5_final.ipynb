{
  "cells": [
    {
      "cell_type": "code",
      "execution_count": null,
      "metadata": {
        "id": "2JWok_txyUGZ"
      },
      "outputs": [],
      "source": [
        "# !unzip openwebtext_gpt2.zip"
      ]
    },
    {
      "cell_type": "code",
      "execution_count": null,
      "metadata": {
        "id": "D2fNpAVFw9AM"
      },
      "outputs": [],
      "source": [
        "# !pip install zstandard\n",
        "# !pip install datasets\n",
        "# !pip install jsonlines\n",
        "# !pip install tiktoken\n",
        "# !pip install torchsummaryX\n",
        "# !pip install wandb"
      ]
    },
    {
      "cell_type": "code",
      "execution_count": 2,
      "metadata": {
        "id": "ZA_gUDTDw9AQ"
      },
      "outputs": [],
      "source": [
        "# os.environ['CUDA_LAUNCH_BLOCKING'] = \"1\"\n",
        "import torch"
      ]
    },
    {
      "cell_type": "code",
      "execution_count": 3,
      "metadata": {
        "id": "S4nFc9snw9AQ"
      },
      "outputs": [],
      "source": [
        "config = {\n",
        "    'encoding_base': \"gpt2\",\n",
        "    \"block_size\": 1024,\n",
        "    \"batch_size\": 12,\n",
        "    \"train_loader_workers\": 4,\n",
        "    \"val_loader_workers\": 2,\n",
        "\n",
        "    \"vocab_size\": 50257,\n",
        "    \"embedding_size\": 64,  # should be divisible by num_attention_heads\n",
        "    \"block_num\": 6,\n",
        "    \"num_attention_heads\": 8,\n",
        "    \"expand_num\": 4,\n",
        "\n",
        "    \"epochs\": 100,\n",
        "    \"lr\": 0.001,\n",
        "    \"dropout\": 0.2,\n",
        "\n",
        "    'scheduler_threshold': 0.005,\n",
        "    'scheduler_factor': 0.6,\n",
        "    'scheduler_patience': 1,\n",
        "\n",
        "    'resume_from': \"best_checkpoint.pth\",\n",
        "}"
      ]
    },
    {
      "cell_type": "code",
      "execution_count": 4,
      "metadata": {
        "colab": {
          "base_uri": "https://localhost:8080/"
        },
        "id": "PWBqzwdLhoDG",
        "outputId": "2183e264-4fe8-4131-c45f-4dfa941d138b"
      },
      "outputs": [
        {
          "output_type": "stream",
          "name": "stdout",
          "text": [
            "Device:  cuda\n",
            "{'<|eos|>': 50256}\n",
            " gazed\n",
            "context: [27, 11299, 31175]\n",
            "question: [27, 25652, 31175]\n",
            "answer: [27, 41484, 31175]\n",
            "summary: [27, 49736, 31175]\n",
            "eos: [50256]\n",
            "pad: [220]\n"
          ]
        }
      ],
      "source": [
        "import tiktoken\n",
        "import os\n",
        "\n",
        "import lzma\n",
        "import tarfile\n",
        "import torch\n",
        "import pickle\n",
        "import numpy as np\n",
        "from tqdm import tqdm\n",
        "\n",
        "device = 'cuda' if torch.cuda.is_available() else 'cpu'\n",
        "print(\"Device: \", device)\n",
        "\n",
        "gpt2_base = tiktoken.get_encoding(config['encoding_base'])\n",
        "\n",
        "encoder = tiktoken.Encoding(\n",
        "    # If you're changing the set of special tokens, make sure to use a different name\n",
        "    # It should be clear from the name what behaviour to expect.\n",
        "    name=\"gpt2_im\",\n",
        "    pat_str=gpt2_base._pat_str,\n",
        "    mergeable_ranks=gpt2_base._mergeable_ranks,\n",
        "    special_tokens={\n",
        "        \"<|eos|>\": config['vocab_size'] - 1,\n",
        "    },\n",
        ")\n",
        "\n",
        "ALLOWED_SPECIAL = set(encoder._special_tokens.keys())\n",
        "\n",
        "print(encoder._special_tokens)\n",
        "\n",
        "CXT_ENC = encoder.encode(\"<content>:\")\n",
        "Q_ENC = encoder.encode(\"<question>:\")\n",
        "A_ENC = encoder.encode(\"<answer>:\")\n",
        "SUM_ENC = encoder.encode(\"<summary>:\")\n",
        "EOS_ENC = encoder.encode(\"<|eos|>\", allowed_special=ALLOWED_SPECIAL)\n",
        "PAD_ENC = encoder.encode(\" \")\n",
        "\n",
        "print(encoder.decode([50255]))\n",
        "\n",
        "print(f\"context: {CXT_ENC}\")\n",
        "print(f\"question: {Q_ENC}\")\n",
        "print(f\"answer: {A_ENC}\")\n",
        "print(f\"summary: {SUM_ENC}\")\n",
        "print(f\"eos: {EOS_ENC}\")\n",
        "print(f\"pad: {PAD_ENC}\")"
      ]
    },
    {
      "cell_type": "code",
      "execution_count": 5,
      "metadata": {
        "id": "_dUY3z-Mw9AR"
      },
      "outputs": [],
      "source": [
        "DATA_DIR = \"openwebtext\"\n",
        "\n",
        "SAVE_THRESH = 100\n",
        "\n",
        "class Tokenizer():\n",
        "    \"\"\"\n",
        "    This is used to tokenize the data and save it to disk.\n",
        "    Only run this once. Load the saved data afterwards.\n",
        "    \"\"\"\n",
        "    def __init__(self, data_dir, partition, encoder, sample_rate=1):\n",
        "\n",
        "        self.data_dir = data_dir\n",
        "        self.encoder = encoder\n",
        "        self.texts = []\n",
        "\n",
        "        data_files = [f\"{file}\" for file in os.listdir(data_dir) if file.endswith(\".xz\")]\n",
        "        data_files.sort()\n",
        "\n",
        "        cut_off = int(len(data_files) * 0.9)\n",
        "\n",
        "        if partition == 'train':\n",
        "            data_files = data_files[:cut_off]\n",
        "        elif partition == 'val':\n",
        "            data_files = data_files[cut_off:]\n",
        "        elif partition == 'all':\n",
        "            pass\n",
        "        else:\n",
        "            raise ValueError(f\"Invalid partition {partition}\")\n",
        "\n",
        "        data_files = data_files[:int(len(data_files) * sample_rate)]\n",
        "\n",
        "        count = 0\n",
        "        save_count = 0\n",
        "\n",
        "        token_save_dir = f\"{self.data_dir}_{config['encoding_base']}\"\n",
        "        self.token_save_dir = token_save_dir\n",
        "\n",
        "        if not os.path.exists(token_save_dir):\n",
        "            os.makedirs(token_save_dir)\n",
        "\n",
        "        for xz_file_path in tqdm(data_files, dynamic_ncols=True):\n",
        "\n",
        "            count += 1\n",
        "\n",
        "            x = []\n",
        "            for encoding in self.iter_xz_file(os.path.join(data_dir, xz_file_path)):\n",
        "                # save the encoding to file\n",
        "                x.append(encoding)\n",
        "\n",
        "            if count > SAVE_THRESH:\n",
        "                self.save(x, save_count)\n",
        "                save_count += 1\n",
        "                count = 0\n",
        "                x = []\n",
        "\n",
        "        # save the remaining\n",
        "        if x:\n",
        "            self.save(x, save_count)\n",
        "\n",
        "    def iter_xz_file(self, xz_file_path):\n",
        "        with lzma.open(xz_file_path, 'rb') as xz_file:\n",
        "        # Open the xz file as a tar archive\n",
        "            with tarfile.open(fileobj=xz_file, mode=\"r\") as tar:\n",
        "                # Iterate through each file in the tar archive\n",
        "                for tarinfo in tar:\n",
        "                    # Check if the file is a regular file (not a directory)\n",
        "                    if tarinfo.isreg():\n",
        "                        # Extract the file's contents into memory\n",
        "                        file_content = tar.extractfile(tarinfo)\n",
        "                        # Read and process the content of the file (example: print the first 500 characters)\n",
        "                        content = file_content.read().decode('utf-8')  # Assuming text content\n",
        "                        # encoding = encoder.encode(content)\n",
        "                        # return file name and encoding\n",
        "                        yield self.encoder.encode(content)\n",
        "\n",
        "    def save(self, x, save_count):\n",
        "        with open(f\"{self.token_save_dir}/{save_count}.pkl\", 'wb') as f:\n",
        "            pickle.dump(x, f)\n",
        "\n",
        "\n",
        "# train_dataset = Tokenizer(DATA_DIR, 'all', encoder=encoder)"
      ]
    },
    {
      "cell_type": "code",
      "execution_count": null,
      "metadata": {
        "colab": {
          "base_uri": "https://localhost:8080/"
        },
        "id": "ND5tHlKFw9AS",
        "outputId": "17220d49-0270-4cd7-834d-b82396412e73"
      },
      "outputs": [
        {
          "output_type": "stream",
          "name": "stderr",
          "text": [
            "100%|██████████| 194/194 [00:05<00:00, 35.88it/s]\n",
            "100%|██████████| 11/11 [00:00<00:00, 40.90it/s]\n"
          ]
        }
      ],
      "source": [
        "import tiktoken\n",
        "import numpy as np\n",
        "encoder = tiktoken.get_encoding(config['encoding_base'])\n",
        "\n",
        "import torch\n",
        "\n",
        "DATA_DIR = \"openwebtext_gpt2\"\n",
        "\n",
        "class OpenWebText(torch.utils.data.DataLoader):\n",
        "    def __init__(self, data_dir, partition, batch_size, block_size, shuffle, sample_rate = 1.0):\n",
        "\n",
        "        self.dataset = []\n",
        "        self.total_text_len = 0\n",
        "\n",
        "        self.batch_size = batch_size\n",
        "        self.block_size = block_size\n",
        "        self.shuffle = shuffle\n",
        "\n",
        "        data_files = [f\"{file}\" for file in os.listdir(data_dir) if file.endswith(\".pkl\")]\n",
        "        data_files.sort()\n",
        "\n",
        "        cut_off = int(len(data_files) * 0.95)\n",
        "\n",
        "        if partition == 'train':\n",
        "            data_files = data_files[:cut_off]\n",
        "        elif partition == 'val':\n",
        "            data_files = data_files[cut_off:]\n",
        "\n",
        "        data_files = data_files[:int(len(data_files) * sample_rate)]\n",
        "\n",
        "        for fpath in tqdm(data_files, dynamic_ncols=True):\n",
        "            articles = pickle.load(open(f\"{data_dir}/{fpath}\", 'rb'))\n",
        "            # add <eos> at the end of each article\n",
        "            for article in articles:\n",
        "                self.total_text_len += len(article)\n",
        "                article += EOS_ENC\n",
        "            self.dataset.extend(articles)\n",
        "\n",
        "        # calculate the batch size\n",
        "        self.num_batches = self.total_text_len // (block_size * batch_size)\n",
        "\n",
        "    def __len__(self):\n",
        "        return self.num_batches\n",
        "\n",
        "    def __iter__(self):\n",
        "        # TODOs:\n",
        "        # 1. Shuffle data if shuffle is True\n",
        "        # 2. Concatenate articles and drop extra words\n",
        "        # 3. Divide the concetenated dataset into inputs and targets. How do they vary?\n",
        "        # 4. Reshape the inputs and targets into batches (think about the final shape)\n",
        "        # 5. Loop though the batches and yield the input and target according to the sequence length\n",
        "\n",
        "        if self.shuffle:\n",
        "            # TODO\n",
        "            np.random.shuffle(self.dataset)\n",
        "\n",
        "        data = np.concatenate(self.dataset)\n",
        "\n",
        "        num_batches = self.num_batches\n",
        "\n",
        "        inputs, targets = [], []\n",
        "\n",
        "        for batch_idx in range(num_batches):\n",
        "            batch_start = batch_idx * self.batch_size * self.block_size\n",
        "            batch_end = batch_start + self.batch_size * self.block_size\n",
        "\n",
        "            batch_data = data[batch_start:batch_end+1]\n",
        "\n",
        "            inputs.append(np.array(batch_data[:-1]).reshape(self.batch_size, self.block_size))\n",
        "            targets.append(np.array(batch_data[1:]).reshape(self.batch_size, self.block_size))\n",
        "\n",
        "        batch_idx = 0\n",
        "        while batch_idx < num_batches:\n",
        "            yield torch.tensor(inputs[batch_idx]), torch.tensor(targets[batch_idx])\n",
        "            batch_idx += 1\n",
        "\n",
        "import gc\n",
        "gc.collect()\n",
        "\n",
        "train_loader = OpenWebText(DATA_DIR, 'train', batch_size=config['batch_size'], block_size=config['block_size'], shuffle=True, sample_rate=1)\n",
        "val_loader = OpenWebText(DATA_DIR, 'val', batch_size=config['batch_size'], block_size=config['block_size'], shuffle=False, sample_rate=1)"
      ]
    },
    {
      "cell_type": "code",
      "execution_count": null,
      "metadata": {
        "colab": {
          "base_uri": "https://localhost:8080/"
        },
        "id": "nNTxDLxCw9AS",
        "outputId": "7a6ccf4b-18f6-49da-e278-9e994aee94d1"
      },
      "outputs": [
        {
          "output_type": "stream",
          "name": "stdout",
          "text": [
            "Batch size:  12\n",
            "Train dataset batches = 6877\n",
            "Val dataset batches = 397\n",
            "torch.Size([12, 1024]) torch.Size([12, 1024])\n"
          ]
        }
      ],
      "source": [
        "import gc\n",
        "gc.collect()\n",
        "\n",
        "print(\"Batch size: \", config['batch_size'])\n",
        "print(\"Train dataset batches = {}\".format(len(train_loader)))\n",
        "print(\"Val dataset batches = {}\".format(len(val_loader)))\n",
        "\n",
        "# sanity check\n",
        "for data in train_loader:\n",
        "    x, y = data\n",
        "    print(x.shape, y.shape)\n",
        "    break"
      ]
    },
    {
      "cell_type": "code",
      "execution_count": 6,
      "metadata": {
        "id": "Wy5yI_NZw9AS"
      },
      "outputs": [],
      "source": [
        "import torch\n",
        "import torch.nn as nn\n",
        "import torch.nn.functional as F\n",
        "from torchsummaryX import summary\n",
        "import math\n",
        "\n",
        "class Attention(torch.nn.Module):\n",
        "\n",
        "    def __init__(self, embedding_size, headsize, weights_keys = None, weights_queries = None, weights_values = None):\n",
        "\n",
        "        \"\"\"\n",
        "        Initialize instance variables. Refer to writeup for notation.\n",
        "        input_dim = D, key_dim = query_dim = D_k, value_dim = D_v\n",
        "\n",
        "        Argument(s)\n",
        "        -----------\n",
        "\n",
        "        weights_keys (torch.tensor, dim = (D X D_k)): weight matrix for keys\n",
        "        weights_queries (torch.tensor, dim = (D X D_k)): weight matrix for queries\n",
        "        weights_values (torch.tensor, dim = (D X D_v)): weight matrix for values\n",
        "\n",
        "        \"\"\"\n",
        "\n",
        "        super().__init__()\n",
        "\n",
        "        self.embedding_size = embedding_size\n",
        "        self.headsize = headsize\n",
        "\n",
        "        # Store the given weights as parameters of the class.\n",
        "        if weights_keys == None:\n",
        "            self.W_k = torch.nn.Linear(embedding_size, headsize, bias=False) #nn.Linear(D_x, headsize)\n",
        "        else:\n",
        "            self.W_k = weights_keys\n",
        "\n",
        "        if weights_queries == None:\n",
        "            self.W_q = torch.nn.Linear(embedding_size, headsize, bias=False)\n",
        "        else:\n",
        "            self.W_q = weights_queries\n",
        "\n",
        "        if weights_values == None:\n",
        "            self.W_v = torch.nn.Linear(embedding_size, headsize, bias=False)\n",
        "        else:\n",
        "            self.W_v = weights_values\n",
        "\n",
        "        # Use this object to perform softmax related operations.\n",
        "        # It performs softmax over the last dimension which is what you'll need.\n",
        "        self.softmax = F.softmax\n",
        "\n",
        "    def forward(self, X, mask):\n",
        "\n",
        "        \"\"\"\n",
        "        Compute outputs of the self-attention layer.\n",
        "        Stores keys, queries, values, raw and normalized attention weights.\n",
        "        Refer to writeup for notation.\n",
        "        batch_size = B, seq_len = T, input_dim = D, value_dim = D_v\n",
        "\n",
        "        Note that input to this method is a batch not a single sequence, so doing a transpose using .T can yield unexpected results.\n",
        "        You should permute only the required axes.\n",
        "\n",
        "        Input\n",
        "        -----\n",
        "        X (torch.tensor, dim = (B, T, D)): Input batch\n",
        "\n",
        "        Return\n",
        "        ------\n",
        "        X_new (torch.tensor, dim = (B, T, D_v)): Output batch\n",
        "\n",
        "        \"\"\"\n",
        "\n",
        "        self.X = X\n",
        "\n",
        "        # Compute the values of Key, Query and Value\n",
        "\n",
        "\n",
        "        self.Q = self.W_q(X)\n",
        "        self.K = self.W_k(X)\n",
        "        self.V = self.W_v(X)\n",
        "\n",
        "        # Calculate Attention weights\n",
        "\n",
        "        self.A_w    = self.Q @ self.K.transpose(-2, -1) / math.sqrt(self.headsize)\n",
        "\n",
        "\n",
        "        # Mask\n",
        "        if mask is None:\n",
        "          mask = torch.tril(torch.ones_like(self.A_w))\n",
        "        self.A_w = self.A_w.masked_fill(mask == 0, float('-inf'))\n",
        "\n",
        "\n",
        "        # Softmax\n",
        "\n",
        "        self.A_sig   = self.softmax(self.A_w, dim=-1)\n",
        "\n",
        "\n",
        "        # Calculate Attention context\n",
        "\n",
        "        X_new         = self.A_sig @ self.V\n",
        "\n",
        "\n",
        "        return X_new\n",
        "\n",
        "\n",
        "class MultiHeadAttention(torch.nn.Module):\n",
        "\n",
        "    def __init__(self, num_heads, headsize, embedding_size, dropout):\n",
        "        super().__init__()\n",
        "        self.heads = torch.nn.ModuleList()\n",
        "        for _ in range(num_heads):\n",
        "            self.heads.append(Attention(embedding_size, headsize))\n",
        "\n",
        "        # Add projection layer to match with output of other blocks\n",
        "        self.linear = torch.nn.Linear(num_heads * headsize, embedding_size)\n",
        "\n",
        "        # Add dropout layer\n",
        "        self.dropout = torch.nn.Dropout(dropout)\n",
        "\n",
        "    def forward(self, X, mask):\n",
        "        B, T, _ = X.shape\n",
        "        out = torch.empty((B, T, 0))\n",
        "        out = torch.cat([head(X, mask) for head in self.heads], dim = -1)\n",
        "        # Pass projection layer later\n",
        "        out = self.linear(out)\n",
        "\n",
        "        # Pass dropout layer later\n",
        "        out = self.dropout(out)\n",
        "\n",
        "        return out\n",
        "\n",
        "class FeedForwardBlock(torch.nn.Module):\n",
        "    def __init__(self, embedding_size, expand_num, dropout):\n",
        "\n",
        "        super().__init__()\n",
        "\n",
        "        self.linear_1 = torch.nn.Linear(embedding_size, expand_num * embedding_size)\n",
        "        self.gelu = torch.nn.GELU()\n",
        "        self.linear_2 = torch.nn.Linear(expand_num * embedding_size, embedding_size)\n",
        "        # Optional dropout\n",
        "        self.dropout = torch.nn.Dropout(dropout)\n",
        "\n",
        "    def forward(self, X):\n",
        "        X = self.linear_1(X)\n",
        "        X = self.gelu(X)\n",
        "        X = self.linear_2(X)\n",
        "        X = self.dropout(X)\n",
        "\n",
        "        return X\n",
        "\n",
        "class ResidualBlock(torch.nn.Module):\n",
        "\n",
        "    def __init__(self, num_heads, embedding_size, expand_num, dropout):\n",
        "        super().__init__()\n",
        "\n",
        "\n",
        "        self.layerNorm_1 = torch.nn.LayerNorm(embedding_size)\n",
        "        self.layerNorm_2 = torch.nn.LayerNorm(embedding_size)\n",
        "        self.multihead = MultiHeadAttention(num_heads, embedding_size//num_heads, embedding_size, dropout)\n",
        "        self.feedforward = FeedForwardBlock(embedding_size, expand_num, dropout)\n",
        "\n",
        "    def forward(self, X, mask):\n",
        "\n",
        "        # Adding original input after passing multi head attention\n",
        "\n",
        "        out_1 = self.layerNorm_1(X)\n",
        "\n",
        "        out_1 = self.multihead(out_1, mask)\n",
        "\n",
        "        out_1 = out_1 + X\n",
        "\n",
        "        # Adding result after first residual to final output\n",
        "        out_2 = self.layerNorm_2(out_1)\n",
        "\n",
        "        out_2 = self.feedforward(out_2)\n",
        "\n",
        "        out_2 = out_2 + out_1\n",
        "\n",
        "        return out_2\n",
        "\n",
        "class SimpleGPTModel(torch.nn.Module):\n",
        "\n",
        "    def __init__(self, vocab_size, block_size, block_num, num_heads, embedding_size, expand_num, dropout):\n",
        "        super().__init__()\n",
        "        self.token_embedding = torch.nn.Embedding(vocab_size, embedding_size) #这俩我不太确定是不是这样写 不知道用tiktoken有没有影响？\n",
        "        self.position_embedding = torch.nn.Embedding(block_size, embedding_size)\n",
        "\n",
        "        self.blocks = torch.nn.Sequential()\n",
        "        for _ in range(block_num):\n",
        "            self.blocks.append(ResidualBlock(num_heads, embedding_size, expand_num, dropout))\n",
        "\n",
        "        # Final layer norm\n",
        "        self.linear = torch.nn.LayerNorm(embedding_size)\n",
        "\n",
        "        # Projection layer (应该是映射回去吧？)\n",
        "        self.proj = torch.nn.Linear(embedding_size, vocab_size)\n",
        "\n",
        "    def _init_weights(self, module):\n",
        "        if isinstance(module, torch.nn.Embedding): #我没找到embedding这个有啥专有的initialization function\n",
        "            torch.nn.init.normal_(module.weight, mean=0.0, std=0.02)\n",
        "\n",
        "        if isinstance(module, torch.nn.Linear):\n",
        "            # Initialize the linear layer weights with Xavier/Glorot initialization\n",
        "            torch.nn.init.xavier_uniform_(module.weight)\n",
        "            # Set biases to zero\n",
        "            if module.bias is not None:\n",
        "                torch.nn.init.constant_(module.bias, 0)\n",
        "\n",
        "    def forward(self, X, mask):\n",
        "        B, T = X.shape\n",
        "\n",
        "        token_embedding = self.token_embedding(X)\n",
        "        position_embedding = self.position_embedding(torch.arange(T, device=device)) #这个我不太懂arrange是在干啥 照着写的\n",
        "\n",
        "        X = token_embedding + position_embedding\n",
        "\n",
        "        for block in self.blocks:\n",
        "          X = block(X, mask)\n",
        "\n",
        "        # X = self.blocks((X, mask))\n",
        "\n",
        "        X = self.linear(X)\n",
        "\n",
        "        logits = self.proj(X)\n",
        "\n",
        "\n",
        "        return logits\n",
        "\n",
        "    # def generate(self, X, max_new_tokens): 这个好像是用来生成decode文本的，我没太看懂逻辑 训练应该暂时用不上？\n",
        "\n",
        "# Define a simple sequence-to-sequence model using MultiheadAttention\n",
        "class Demo(nn.Module):\n",
        "    def __init__(self, input_dim, hidden_dim, output_dim, num_heads):\n",
        "        super(Demo, self).__init__()\n",
        "\n",
        "        self.embedding = nn.Embedding(input_dim, hidden_dim)\n",
        "        self.multihead_attn = nn.MultiheadAttention(hidden_dim, num_heads)\n",
        "        self.fc = nn.Linear(hidden_dim, output_dim)\n",
        "\n",
        "    def forward(self, src, trg):\n",
        "        embedded_src = self.embedding(src)\n",
        "        embedded_trg = self.embedding(trg)\n",
        "\n",
        "        # Permute the dimensions to fit the MultiheadAttention input shape\n",
        "        embedded_src = embedded_src.permute(1, 0, 2)\n",
        "        embedded_trg = embedded_trg.permute(1, 0, 2)\n",
        "\n",
        "        attn_output, _ = self.multihead_attn(embedded_trg, embedded_src, embedded_src)\n",
        "\n",
        "        # Permute the dimensions back to the original shape\n",
        "        attn_output = attn_output.permute(1, 0, 2)\n",
        "\n",
        "        logits = self.fc(attn_output)\n",
        "\n",
        "        return logits\n"
      ]
    },
    {
      "cell_type": "code",
      "execution_count": 7,
      "metadata": {
        "colab": {
          "base_uri": "https://localhost:8080/"
        },
        "id": "M0lPdQuMw9AU",
        "outputId": "32b9f304-e0bb-434b-dfa1-060a9f33692b"
      },
      "outputs": [
        {
          "output_type": "stream",
          "name": "stdout",
          "text": [
            "gpu counts:  2\n"
          ]
        }
      ],
      "source": [
        "torch.cuda.empty_cache()\n",
        "\n",
        "model = SimpleGPTModel(\n",
        "    vocab_size=config['vocab_size'],\n",
        "    block_size=config['block_size'],\n",
        "    block_num=config['block_num'],\n",
        "    num_heads=config['num_attention_heads'],\n",
        "    embedding_size=config['embedding_size'],\n",
        "    expand_num=config['expand_num'],\n",
        "    dropout=config['dropout'],\n",
        ")\n",
        "\n",
        "# model = torch.nn.DataParallel(model)\n",
        "\n",
        "model = model.to(device)\n",
        "\n",
        "# enable multiple gpus\n",
        "if torch.cuda.device_count() > 1:\n",
        "    print(\"gpu counts: \", torch.cuda.device_count())\n",
        "    # Wrap the model with DataParallel\n",
        "    model = nn.DataParallel(model)\n",
        "\n",
        "criterion = nn.CrossEntropyLoss()\n",
        "\n",
        "optimizer =  torch.optim.AdamW(model.parameters(), lr=config['lr'], weight_decay=0.05)\n",
        "\n",
        "scheduler = torch.optim.lr_scheduler.ReduceLROnPlateau(\n",
        "    optimizer,\n",
        "    mode='min',\n",
        "    factor=0.6,\n",
        "    patience=1,\n",
        "    threshold=0.005,\n",
        "    min_lr=0,\n",
        "    cooldown=1,\n",
        "    verbose=True)\n",
        "\n",
        "# Mixed Precision, if you need it\n",
        "scaler = torch.cuda.amp.GradScaler()\n",
        "\n",
        "# test code to check shapes\n",
        "# model.eval()\n",
        "\n",
        "\n",
        "# print(model)\n",
        "\n",
        "# for i, data in enumerate(val_loader, 0):\n",
        "#     x, y = data\n",
        "#     x, y = x.to(device), y.to(device)\n",
        "\n",
        "#     # summary(model, x)\n",
        "\n",
        "#     logits = model(x)\n",
        "\n",
        "#     loss = criterion(logits.view(-1, logits.size(-1)), y.view(-1))\n",
        "\n",
        "#     print(loss)\n",
        "\n",
        "#     break\n",
        "\n"
      ]
    },
    {
      "cell_type": "code",
      "execution_count": 8,
      "metadata": {
        "id": "ykcyycwVw9AV"
      },
      "outputs": [],
      "source": [
        "from tqdm import tqdm\n",
        "\n",
        "def train_model(model, train_loader, criterion, optimizer, finetune=False):\n",
        "\n",
        "    model.train()\n",
        "    batch_bar = tqdm(total=len(train_loader), dynamic_ncols=True, leave=False, position=0, desc='Train')\n",
        "\n",
        "    total_loss = 0\n",
        "\n",
        "    for i, data in enumerate(train_loader):\n",
        "        optimizer.zero_grad()\n",
        "\n",
        "        if finetune:\n",
        "          x, y, mask = data\n",
        "          x, y, mask = x.type(torch.LongTensor).to(device), y.type(torch.LongTensor).to(device), mask.to(device)\n",
        "        else:\n",
        "          x, y = data\n",
        "          x, y = x.type(torch.LongTensor).to(device), y.type(torch.LongTensor).to(device)\n",
        "          mask = None\n",
        "\n",
        "        with torch.cuda.amp.autocast():\n",
        "            logits = model(x, mask)\n",
        "            loss = criterion(logits.view(-1, logits.size(-1)), y.view(-1))\n",
        "\n",
        "        total_loss += loss.item()\n",
        "\n",
        "        batch_bar.set_postfix(\n",
        "            loss=\"{:.04f}\".format(float(total_loss / (i + 1))),\n",
        "            lr=\"{:.06f}\".format(float(optimizer.param_groups[0]['lr'])))\n",
        "\n",
        "        batch_bar.update() # Update tqdm bar\n",
        "\n",
        "        # Another couple things you need for FP16.\n",
        "        scaler.scale(loss).backward() # This is a replacement for loss.backward()\n",
        "        scaler.step(optimizer) # This is a replacement for optimizer.step()\n",
        "        scaler.update() # This is something added just for FP16\n",
        "\n",
        "        del x, y, loss\n",
        "        torch.cuda.empty_cache()\n",
        "\n",
        "    batch_bar.close() # You need this to close the tqdm bar\n",
        "\n",
        "    return total_loss / len(train_loader)\n",
        "\n",
        "\n",
        "def validate_model(model, val_loader, criterion, finetune=False):\n",
        "\n",
        "    model.eval()\n",
        "    batch_bar = tqdm(total=len(val_loader), dynamic_ncols=True, position=0, leave=False, desc='Val')\n",
        "\n",
        "    total_loss = 0\n",
        "\n",
        "    for i, data in enumerate(val_loader):\n",
        "\n",
        "        if finetune:\n",
        "          x, y, mask = data\n",
        "          x, y, mask = x.type(torch.LongTensor).to(device), y.type(torch.LongTensor).to(device), mask.to(device)\n",
        "        else:\n",
        "          x, y = data\n",
        "          x, y = x.type(torch.LongTensor).to(device), y.type(torch.LongTensor).to(device)\n",
        "          mask = None\n",
        "\n",
        "        with torch.cuda.amp.autocast():\n",
        "            logits = model(x, mask)\n",
        "            loss = criterion(logits.view(-1, logits.size(-1)), y.view(-1))\n",
        "\n",
        "        total_loss += float(loss)\n",
        "\n",
        "        batch_bar.set_postfix(loss=\"{:.04f}\".format(float(total_loss / (i + 1))))\n",
        "\n",
        "        batch_bar.update()\n",
        "\n",
        "        del x, y, loss\n",
        "        torch.cuda.empty_cache()\n",
        "\n",
        "    batch_bar.close()\n",
        "    total_loss = total_loss/len(val_loader)\n",
        "\n",
        "    return total_loss"
      ]
    },
    {
      "cell_type": "code",
      "execution_count": 9,
      "metadata": {
        "id": "fBQ7xqJDw9AV"
      },
      "outputs": [],
      "source": [
        "def save_model(model, optimizer, scheduler, loss, epoch, path):\n",
        "    torch.save(\n",
        "        {'model_state_dict'         : model.state_dict(),\n",
        "         'optimizer_state_dict'     : optimizer.state_dict(),\n",
        "         'scheduler_state_dict'     : scheduler.state_dict(),\n",
        "         'epoch'                    : epoch,\n",
        "         'loss'                     : loss,\n",
        "         },\n",
        "         path\n",
        "    )\n",
        "\n",
        "def load_model(path, model, optimizer= None, scheduler= None):\n",
        "\n",
        "    checkpoint = torch.load(path)\n",
        "\n",
        "    model.load_state_dict(checkpoint['model_state_dict'])\n",
        "\n",
        "    if optimizer != None:\n",
        "        optimizer.load_state_dict(checkpoint['optimizer_state_dict'])\n",
        "    if scheduler != None:\n",
        "        scheduler.load_state_dict(checkpoint['scheduler_state_dict'])\n",
        "\n",
        "    epoch   = checkpoint['epoch']\n",
        "    loss  = checkpoint['loss']\n",
        "\n",
        "    return [model, optimizer, scheduler, epoch, loss]"
      ]
    },
    {
      "cell_type": "code",
      "execution_count": null,
      "metadata": {
        "colab": {
          "base_uri": "https://localhost:8080/",
          "height": 190
        },
        "id": "MmWqJRmRw9AV",
        "outputId": "a87abf9e-a85b-40a8-a3f1-3fc3acf3a83a"
      },
      "outputs": [
        {
          "output_type": "stream",
          "name": "stderr",
          "text": [
            "\u001b[34m\u001b[1mwandb\u001b[0m: Currently logged in as: \u001b[33mmingyang2457\u001b[0m (\u001b[33mmse\u001b[0m). Use \u001b[1m`wandb login --relogin`\u001b[0m to force relogin\n",
            "\u001b[34m\u001b[1mwandb\u001b[0m: \u001b[33mWARNING\u001b[0m If you're specifying your api key in code, ensure this code is not shared publicly.\n",
            "\u001b[34m\u001b[1mwandb\u001b[0m: \u001b[33mWARNING\u001b[0m Consider setting the WANDB_API_KEY environment variable, or running `wandb login` from the command line.\n",
            "\u001b[34m\u001b[1mwandb\u001b[0m: Appending key for api.wandb.ai to your netrc file: /root/.netrc\n"
          ]
        },
        {
          "output_type": "display_data",
          "data": {
            "text/plain": [
              "<IPython.core.display.HTML object>"
            ],
            "text/html": [
              "Tracking run with wandb version 0.16.1"
            ]
          },
          "metadata": {}
        },
        {
          "output_type": "display_data",
          "data": {
            "text/plain": [
              "<IPython.core.display.HTML object>"
            ],
            "text/html": [
              "Run data is saved locally in <code>/content/wandb/run-20231208_160033-arjgnepg</code>"
            ]
          },
          "metadata": {}
        },
        {
          "output_type": "display_data",
          "data": {
            "text/plain": [
              "<IPython.core.display.HTML object>"
            ],
            "text/html": [
              "Syncing run <strong><a href='https://wandb.ai/mse/hw5-final-ablations/runs/arjgnepg' target=\"_blank\">early</a></strong> to <a href='https://wandb.ai/mse/hw5-final-ablations' target=\"_blank\">Weights & Biases</a> (<a href='https://wandb.me/run' target=\"_blank\">docs</a>)<br/>"
            ]
          },
          "metadata": {}
        },
        {
          "output_type": "display_data",
          "data": {
            "text/plain": [
              "<IPython.core.display.HTML object>"
            ],
            "text/html": [
              " View project at <a href='https://wandb.ai/mse/hw5-final-ablations' target=\"_blank\">https://wandb.ai/mse/hw5-final-ablations</a>"
            ]
          },
          "metadata": {}
        },
        {
          "output_type": "display_data",
          "data": {
            "text/plain": [
              "<IPython.core.display.HTML object>"
            ],
            "text/html": [
              " View run at <a href='https://wandb.ai/mse/hw5-final-ablations/runs/arjgnepg' target=\"_blank\">https://wandb.ai/mse/hw5-final-ablations/runs/arjgnepg</a>"
            ]
          },
          "metadata": {}
        }
      ],
      "source": [
        "import wandb\n",
        "wandb.login(key=\"a79b18083e01ff03f06bcc22e0524de4fb499b24\")\n",
        "run = wandb.init(\n",
        "    name = \"early\", ## Wandb creates random run names if you skip this field\n",
        "    reinit = True, ### Allows reinitalizing runs when you re-run this cell\n",
        "    # run_id = ### Insert specific run id here if you want to resume a previous run\n",
        "    # resume = \"must\" ### You need this to resume previous runs, but comment out reinit = True when using this\n",
        "    project = \"hw5-final-ablations\", ### Project should be created in your wandb account\n",
        "    config = config ### Wandb Config for your run\n",
        ")"
      ]
    },
    {
      "cell_type": "code",
      "source": [
        "torch.cuda.empty_cache()"
      ],
      "metadata": {
        "id": "VEdbN2bnCRY2"
      },
      "execution_count": 10,
      "outputs": []
    },
    {
      "cell_type": "code",
      "execution_count": null,
      "metadata": {
        "colab": {
          "base_uri": "https://localhost:8080/"
        },
        "id": "zjfjp0Jgw9AW",
        "outputId": "7ce5c521-e6c5-4c76-9d39-5319df9553f3"
      },
      "outputs": [
        {
          "output_type": "stream",
          "name": "stdout",
          "text": [
            "\n",
            "Epoch: 1/100\n"
          ]
        },
        {
          "output_type": "stream",
          "name": "stderr",
          "text": []
        },
        {
          "output_type": "stream",
          "name": "stdout",
          "text": [
            "\tTrain Loss 5.4778\t Learning Rate 0.0010000\n",
            "\tVal Loss 5.2857\n",
            "Saved epoch model\n",
            "Saved best model\n",
            "\n",
            "Epoch: 2/100\n"
          ]
        },
        {
          "output_type": "stream",
          "name": "stderr",
          "text": []
        },
        {
          "output_type": "stream",
          "name": "stdout",
          "text": [
            "\tTrain Loss 5.3178\t Learning Rate 0.0010000\n",
            "\tVal Loss 5.1663\n",
            "Saved epoch model\n",
            "Saved best model\n",
            "\n",
            "Epoch: 3/100\n"
          ]
        },
        {
          "output_type": "stream",
          "name": "stderr",
          "text": []
        },
        {
          "output_type": "stream",
          "name": "stdout",
          "text": [
            "\tTrain Loss 5.2189\t Learning Rate 0.0010000\n",
            "\tVal Loss 5.0777\n",
            "Saved epoch model\n",
            "Saved best model\n",
            "\n",
            "Epoch: 4/100\n"
          ]
        },
        {
          "output_type": "stream",
          "name": "stderr",
          "text": []
        },
        {
          "output_type": "stream",
          "name": "stdout",
          "text": [
            "\tTrain Loss 5.1516\t Learning Rate 0.0010000\n",
            "\tVal Loss 5.0592\n",
            "Saved epoch model\n",
            "Saved best model\n",
            "\n",
            "Epoch: 5/100\n"
          ]
        },
        {
          "output_type": "stream",
          "name": "stderr",
          "text": [
            "Train:  75%|███████▌  | 5190/6877 [1:03:52<20:35,  1.37it/s, loss=5.1014, lr=0.001000]"
          ]
        },
        {
          "output_type": "stream",
          "name": "stdout",
          "text": [
            "Buffered data was truncated after reaching the output size limit."
          ]
        }
      ],
      "source": [
        "torch.cuda.empty_cache()\n",
        "gc.collect()\n",
        "\n",
        "last_epoch_completed = 0\n",
        "start = last_epoch_completed\n",
        "end = config[\"epochs\"]\n",
        "best_model_path = 'best_checkpoint.pth' # set best model path\n",
        "best_loss = float('inf')\n",
        "\n",
        "if 'resume_from' in config and config['resume_from']:\n",
        "  _, _, _, last_epoch_completed, best_loss = load_model(config['resume_from'], model)\n",
        "\n",
        "#TODO: Please complete the training loop\n",
        "\n",
        "for epoch in range(last_epoch_completed, end):\n",
        "\n",
        "    print(\"\\nEpoch: {}/{}\".format(epoch+1, config['epochs']))\n",
        "\n",
        "    curr_lr = optimizer.param_groups[0]['lr']\n",
        "\n",
        "    train_loss              = train_model(model, train_loader, criterion, optimizer)\n",
        "    valid_loss              = validate_model(model, val_loader, criterion)\n",
        "    scheduler.step(valid_loss)\n",
        "\n",
        "    print(\"\\tTrain Loss {:.04f}\\t Learning Rate {:.07f}\".format(train_loss, curr_lr))\n",
        "    print(\"\\tVal Loss {:.04f}\".format(valid_loss))\n",
        "\n",
        "\n",
        "    wandb.log({\n",
        "        'train_loss': train_loss,\n",
        "        'valid_loss': valid_loss,\n",
        "        'lr'        : curr_lr\n",
        "    })\n",
        "    epoch_model_path = f'checkpoint-{epoch}.pth'\n",
        "    save_model(model, optimizer, scheduler, valid_loss, epoch, epoch_model_path)\n",
        "    # wandb.save(epoch_model_path)\n",
        "    print(\"Saved epoch model\")\n",
        "\n",
        "    if valid_loss <= best_loss:\n",
        "        best_loss = valid_loss\n",
        "        save_model(model, optimizer, scheduler,valid_loss, epoch, best_model_path)\n",
        "        wandb.save(best_model_path)\n",
        "        print(\"Saved best model\")\n",
        "      # You may find it interesting to exlplore Wandb Artifcats to version your models\n",
        "\n",
        "run.finish()"
      ]
    },
    {
      "cell_type": "code",
      "source": [
        "# !unzip cnn_dm_tiktoken_gpt2.zip\n",
        "# !unzip squad_tiktoken_gpt2.zip"
      ],
      "metadata": {
        "colab": {
          "base_uri": "https://localhost:8080/"
        },
        "id": "IFlV4VNVzwqT",
        "outputId": "1678ef10-1664-4eea-c3a8-a1b7d97b7819"
      },
      "execution_count": null,
      "outputs": [
        {
          "output_type": "stream",
          "name": "stdout",
          "text": [
            "Archive:  cnn_dm_tiktoken_gpt2.zip\n",
            "   creating: cnn_dm_tiktoken_gpt2/\n",
            "   creating: cnn_dm_tiktoken_gpt2/train/\n",
            "   creating: cnn_dm_tiktoken_gpt2/val/\n",
            "  inflating: cnn_dm_tiktoken_gpt2/train/summaries.pkl  \n",
            "  inflating: cnn_dm_tiktoken_gpt2/train/articles.pkl  \n",
            "  inflating: cnn_dm_tiktoken_gpt2/val/summaries.pkl  \n",
            "  inflating: cnn_dm_tiktoken_gpt2/val/articles.pkl  \n",
            "Archive:  squad_tiktoken_gpt2.zip\n",
            "   creating: squad_tiktoken_gpt2/\n",
            "   creating: squad_tiktoken_gpt2/train/\n",
            "   creating: squad_tiktoken_gpt2/val/\n",
            "  inflating: squad_tiktoken_gpt2/train/questions.pkl  \n",
            "  inflating: squad_tiktoken_gpt2/train/contexts.pkl  \n",
            "  inflating: squad_tiktoken_gpt2/train/answers.pkl  \n",
            "  inflating: squad_tiktoken_gpt2/val/questions.pkl  \n",
            "  inflating: squad_tiktoken_gpt2/val/contexts.pkl  \n",
            "  inflating: squad_tiktoken_gpt2/val/answers.pkl  \n"
          ]
        }
      ]
    },
    {
      "cell_type": "code",
      "source": [
        "import json\n",
        "import pickle\n",
        "from tqdm import tqdm\n",
        "\n",
        "\n",
        "class SQaADDataset():\n",
        "\n",
        "    def __init__(self, data_path, block_size, load_dir=None):\n",
        "\n",
        "        self.contexts = []\n",
        "        self.questions = []\n",
        "        self.answers = []\n",
        "\n",
        "        if load_dir:\n",
        "            with open(f\"{load_dir}/contexts.pkl\", 'rb') as f:\n",
        "                self.contexts = pickle.load(f)\n",
        "            with open(f\"{load_dir}/questions.pkl\", 'rb') as f:\n",
        "                self.questions = pickle.load(f)\n",
        "            with open(f\"{load_dir}/answers.pkl\", 'rb') as f:\n",
        "                self.answers = pickle.load(f)\n",
        "        else:\n",
        "            with open(data_path, 'r') as f:\n",
        "                raw_data = json.load(f)\n",
        "            for article in tqdm(raw_data['data']):\n",
        "                for paragraph in article['paragraphs']:\n",
        "                    context = paragraph['context']\n",
        "                    context_encoding = encoder.encode(context)\n",
        "                    for qa in paragraph['qas']:\n",
        "                        question = qa['question']\n",
        "                        # strip leading and trailing spaces\n",
        "                        question = question.strip()\n",
        "                        question_encoding = encoder.encode(question)\n",
        "                        if qa['is_impossible']:\n",
        "                            answer = \"\"\n",
        "                        else:\n",
        "                            answer = qa['answers'][0]['text']\n",
        "                        answer_encoding = encoder.encode(answer)\n",
        "                        self.contexts.append(context_encoding)\n",
        "                        self.questions.append(question_encoding)\n",
        "                        self.answers.append(answer_encoding)\n",
        "\n",
        "\n",
        "        self.X = []\n",
        "        self.Y = []\n",
        "\n",
        "        for l in [self.contexts, self.questions, self.answers]:\n",
        "          for i in range(len(l)):\n",
        "              l[i] = np.array(l[i], dtype=\"ushort\")\n",
        "\n",
        "        additional_token_len = len(CXT_ENC) + len(Q_ENC) + len(A_ENC) + len(EOS_ENC) * 2\n",
        "\n",
        "        print(\"Preprocessing contexts, questions and answers\")\n",
        "        for i in tqdm(range(len(self.contexts))):\n",
        "            context, question, answer = self.contexts[i].tolist(), self.questions[i].tolist(), self.answers[i].tolist()\n",
        "            if additional_token_len + len(context) + len(question) + len(answer) > block_size:\n",
        "                # truncate the context\n",
        "                print(\"Context too long\")\n",
        "                context = context[:block_size - additional_token_len - len(question) - len(answer)]\n",
        "\n",
        "            x, y = CXT_ENC + context + EOS_ENC + Q_ENC + question + EOS_ENC + A_ENC, answer + EOS_ENC\n",
        "            self.X.append(np.array(x, dtype=\"ushort\"))\n",
        "            self.Y.append(np.array(y, dtype=\"ushort\"))\n",
        "\n",
        "        if load_dir:\n",
        "          del self.contexts\n",
        "          del self.questions\n",
        "          del self.answers\n",
        "\n",
        "    def save(self, dir_path):\n",
        "        if not os.path.exists(dir_path):\n",
        "            os.makedirs(dir_path)\n",
        "        with open(f\"{dir_path}/contexts.pkl\", 'wb') as f:\n",
        "            pickle.dump(self.contexts, f)\n",
        "        with open(f\"{dir_path}/questions.pkl\", 'wb') as f:\n",
        "            pickle.dump(self.questions, f)\n",
        "        with open(f\"{dir_path}/answers.pkl\", 'wb') as f:\n",
        "            pickle.dump(self.answers, f)\n",
        "\n",
        "\n",
        "class CNN_DailyMail():\n",
        "\n",
        "    def __init__(self, dataset, access, block_size, load_dir=None):\n",
        "\n",
        "        self.articles = []\n",
        "        self.summaries = []\n",
        "\n",
        "        if load_dir:\n",
        "            with open(f\"{load_dir}/articles.pkl\", 'rb') as f:\n",
        "                self.articles = pickle.load(f)\n",
        "            with open(f\"{load_dir}/summaries.pkl\", 'rb') as f:\n",
        "                self.summaries = pickle.load(f)\n",
        "        else:\n",
        "            for i in tqdm(range(len(dataset[access]))):\n",
        "                article = dataset[access][i]['article']\n",
        "                summary = dataset[access][i]['highlights']\n",
        "\n",
        "                article_encoding = encoder.encode(article)\n",
        "                summary_encoding = encoder.encode(summary)\n",
        "\n",
        "                self.articles.append(article_encoding)\n",
        "                self.summaries.append(summary_encoding)\n",
        "\n",
        "        for l in [self.articles, self.summaries]:\n",
        "          for i in range(len(l)):\n",
        "              l[i] = np.array(l[i], dtype=\"ushort\")\n",
        "\n",
        "\n",
        "        self.X = []\n",
        "        self.Y = []\n",
        "\n",
        "        add_token_len = len(CXT_ENC) + len(SUM_ENC) + len(EOS_ENC)\n",
        "\n",
        "        assert len(self.articles) == len(self.summaries)\n",
        "\n",
        "        print(\"Preprocessing artices and summaries\")\n",
        "        for i in tqdm(range(len(self.articles))):\n",
        "            article, summary = self.articles[i].tolist(), self.summaries[i].tolist()\n",
        "            if add_token_len + len(article) + len(summary) > block_size:\n",
        "                # take the first block_size and average on article and summary\n",
        "                article_summary_len_limit = block_size - add_token_len\n",
        "                chunked_article = article[:article_summary_len_limit * len(article) // (len(article) + len(summary))]\n",
        "                chunked_summary = summary[:article_summary_len_limit * len(summary) // (len(article) + len(summary))]\n",
        "                x, y = CXT_ENC + chunked_article + EOS_ENC + SUM_ENC, chunked_summary + EOS_ENC\n",
        "            else:\n",
        "                x, y = CXT_ENC + article + EOS_ENC + SUM_ENC, summary + EOS_ENC\n",
        "\n",
        "            assert len(x) + len(y) - 1 <= block_size\n",
        "\n",
        "            self.X.append(np.array(x, dtype=\"ushort\"))\n",
        "            self.Y.append(np.array(y, dtype=\"ushort\"))\n",
        "\n",
        "        if load_dir:\n",
        "          del self.articles\n",
        "          del self.summaries\n",
        "\n",
        "    def save(self, dir_path):\n",
        "        if not os.path.exists(dir_path):\n",
        "            os.makedirs(dir_path)\n",
        "        with open(f\"{dir_path}/articles.pkl\", 'wb') as f:\n",
        "            pickle.dump(self.articles, f)\n",
        "        with open(f\"{dir_path}/summaries.pkl\", 'wb') as f:\n",
        "            pickle.dump(self.summaries, f)"
      ],
      "metadata": {
        "id": "4o4mgrhzhMRn"
      },
      "execution_count": 11,
      "outputs": []
    },
    {
      "cell_type": "code",
      "source": [
        "squad_val = SQaADDataset(\"dev-v2.0.json\", block_size=config['block_size'], load_dir=\"squad_tiktoken_gpt2/val\")"
      ],
      "metadata": {
        "colab": {
          "base_uri": "https://localhost:8080/"
        },
        "id": "On5I58LwtfMK",
        "outputId": "cbaff7b3-19e2-4fb5-9300-e33a6a62f799"
      },
      "execution_count": 12,
      "outputs": [
        {
          "output_type": "stream",
          "name": "stdout",
          "text": [
            "Preprocessing contexts, questions and answers\n"
          ]
        },
        {
          "output_type": "stream",
          "name": "stderr",
          "text": [
            "100%|██████████| 11873/11873 [00:00<00:00, 58802.66it/s]\n"
          ]
        }
      ]
    },
    {
      "cell_type": "code",
      "source": [
        "cnn_val = CNN_DailyMail(None, 'validation', block_size=config['block_size'], load_dir=\"cnn_dm_tiktoken_gpt2/val\")"
      ],
      "metadata": {
        "colab": {
          "base_uri": "https://localhost:8080/"
        },
        "id": "iisnbIc13W4y",
        "outputId": "5d393224-bb6c-4d86-8a0f-2db82de0e70e"
      },
      "execution_count": 13,
      "outputs": [
        {
          "output_type": "stream",
          "name": "stdout",
          "text": [
            "Preprocessing artices and summaries\n"
          ]
        },
        {
          "output_type": "stream",
          "name": "stderr",
          "text": [
            "100%|██████████| 13368/13368 [00:00<00:00, 17738.81it/s]\n"
          ]
        }
      ]
    },
    {
      "cell_type": "code",
      "source": [
        "squad_train = SQaADDataset(\"train-v2.0.json\", block_size=config['block_size'], load_dir=\"squad_tiktoken_gpt2/train\")"
      ],
      "metadata": {
        "colab": {
          "base_uri": "https://localhost:8080/"
        },
        "id": "P8weC8IZ3X14",
        "outputId": "37b4d9d9-8aa2-4db4-b55d-94db8c5648b5"
      },
      "execution_count": 14,
      "outputs": [
        {
          "output_type": "stream",
          "name": "stdout",
          "text": [
            "Preprocessing contexts, questions and answers\n"
          ]
        },
        {
          "output_type": "stream",
          "name": "stderr",
          "text": [
            "100%|██████████| 130319/130319 [00:02<00:00, 60736.32it/s]\n"
          ]
        }
      ]
    },
    {
      "cell_type": "code",
      "source": [
        "cnn_train = CNN_DailyMail(None, 'train', block_size=config['block_size'], load_dir=\"cnn_dm_tiktoken_gpt2/train\")"
      ],
      "metadata": {
        "colab": {
          "base_uri": "https://localhost:8080/"
        },
        "id": "TFF7cWOH3Y5y",
        "outputId": "2a9be5f0-b7bd-4d3d-e7ab-c4ade32c75f0"
      },
      "execution_count": 15,
      "outputs": [
        {
          "output_type": "stream",
          "name": "stdout",
          "text": [
            "Preprocessing artices and summaries\n"
          ]
        },
        {
          "output_type": "stream",
          "name": "stderr",
          "text": [
            "100%|██████████| 287113/287113 [00:17<00:00, 16720.58it/s]\n"
          ]
        }
      ]
    },
    {
      "cell_type": "code",
      "source": [
        "class FineTuneDataset(torch.utils.data.Dataset):\n",
        "\n",
        "    def __init__(self, squad, cnn, block_size):\n",
        "\n",
        "        self.block_size = block_size\n",
        "\n",
        "        if not squad:\n",
        "          squad_X = []\n",
        "          squad_Y = []\n",
        "        else:\n",
        "          squad_X = squad.X.copy()\n",
        "          squad_Y = squad.Y.copy()\n",
        "\n",
        "        if not cnn:\n",
        "          cnn_X = []\n",
        "          cnn_Y = []\n",
        "        else:\n",
        "          cnn_X = cnn.X.copy()\n",
        "          cnn_Y = cnn.Y.copy()\n",
        "\n",
        "        if squad and cnn:\n",
        "          # scale squad\n",
        "          factor = 1\n",
        "          squad_X *= factor\n",
        "          squad_Y *= factor\n",
        "\n",
        "        total_len = len(squad_X) + len(cnn_X)\n",
        "\n",
        "        self.X = squad_X + cnn_X\n",
        "        self.Y = squad_Y + cnn_Y\n",
        "        self.X_l = []\n",
        "        self.Y_l = []\n",
        "\n",
        "\n",
        "        assert len(self.X) == len(self.Y)\n",
        "\n",
        "        self.inputs = []\n",
        "        self.outputs = []\n",
        "\n",
        "        print(\"Generating inputs and outputs\")\n",
        "        for i in tqdm(range(len(self.X))):\n",
        "\n",
        "            x, y = self.X[i], self.Y[i]\n",
        "\n",
        "            valid_input_len = len(x) + len(y) - 1\n",
        "\n",
        "            if valid_input_len > block_size:\n",
        "                print(f\"Input length {valid_input_len} exceeds block size {block_size}\")\n",
        "                continue\n",
        "\n",
        "            # pad the input\n",
        "            input = np.full(block_size, PAD_ENC, dtype='int32')\n",
        "            input[:valid_input_len] = np.concatenate((x, y))[:-1]\n",
        "            # input = input + PAD_ENC * (block_size - len(input))\n",
        "\n",
        "            output = np.tile(y, (block_size // len(y) + 1))[:block_size].astype(np.int32)\n",
        "\n",
        "            assert len(input) == len(output)\n",
        "            self.inputs.append(input)\n",
        "            self.outputs.append(output)\n",
        "            self.X_l.append(len(x))\n",
        "            self.Y_l.append(len(y))\n",
        "\n",
        "    def _gen_mask(self, l_x, l_y):\n",
        "            mask = np.tril(np.full((l_y, self.block_size), 1, dtype=bool), l_x-1)  # (len(y), block_size)\n",
        "\n",
        "            # for i in range(0, len(y)):\n",
        "            #     mask.append([1]*(len(x)+i) + [0]*(block_size - len(x) - i))\n",
        "\n",
        "            # extend mask to block size\n",
        "            mask = np.tile(mask, (self.block_size // l_y + 1, 1))[:self.block_size]\n",
        "            # mask = (mask * (block_size // len(y) + 1)) [:block_size]  # (block_size, block_size)\n",
        "\n",
        "            assert mask.shape[0]== self.block_size\n",
        "            assert mask.shape[1]== self.block_size\n",
        "            return mask\n",
        "\n",
        "    def __len__(self):\n",
        "        return len(self.inputs)\n",
        "\n",
        "    def __getitem__(self, idx):\n",
        "        return torch.tensor(self.inputs[idx]), torch.tensor(self.outputs[idx]), torch.tensor(self._gen_mask(self.X_l[idx], self.Y_l[idx]))"
      ],
      "metadata": {
        "id": "4G2BfKXwwRws"
      },
      "execution_count": 16,
      "outputs": []
    },
    {
      "cell_type": "code",
      "source": [
        "squad_val_dataset = FineTuneDataset(squad_val, None, block_size=config['block_size'])\n",
        "cnn_val_dataset = FineTuneDataset(None, cnn_val, block_size=config['block_size'])"
      ],
      "metadata": {
        "id": "To63wqjxyIIv",
        "colab": {
          "base_uri": "https://localhost:8080/"
        },
        "outputId": "df0bf35c-b0b6-4581-958a-30781d4a1d58"
      },
      "execution_count": 17,
      "outputs": [
        {
          "output_type": "stream",
          "name": "stdout",
          "text": [
            "Generating inputs and outputs\n"
          ]
        },
        {
          "output_type": "stream",
          "name": "stderr",
          "text": [
            "100%|██████████| 11873/11873 [00:00<00:00, 65896.15it/s]\n"
          ]
        },
        {
          "output_type": "stream",
          "name": "stdout",
          "text": [
            "Generating inputs and outputs\n"
          ]
        },
        {
          "output_type": "stream",
          "name": "stderr",
          "text": [
            "100%|██████████| 13368/13368 [00:00<00:00, 69913.26it/s]\n"
          ]
        }
      ]
    },
    {
      "cell_type": "code",
      "source": [
        "train_dataset = FineTuneDataset(squad_train, cnn_train, block_size=config['block_size'])"
      ],
      "metadata": {
        "colab": {
          "base_uri": "https://localhost:8080/"
        },
        "id": "2XBgaUlzfSUU",
        "outputId": "ed8eb6e2-4763-496d-8487-a8bdd697f9e7"
      },
      "execution_count": 18,
      "outputs": [
        {
          "output_type": "stream",
          "name": "stdout",
          "text": [
            "Generating inputs and outputs\n"
          ]
        },
        {
          "output_type": "stream",
          "name": "stderr",
          "text": [
            "100%|██████████| 417432/417432 [00:07<00:00, 57780.41it/s]\n"
          ]
        }
      ]
    },
    {
      "cell_type": "code",
      "source": [
        "class MockDataset():\n",
        "\n",
        "    def __init__(self):\n",
        "        x_decoded = [\"<context>:this is the context.<question>:when is it today<|eos|><answer>:\",\n",
        "                     \"<context>:this is the article.<eos><summary:>\"]\n",
        "        y_decoded = [\"today is December 5th.<|eos|>\",\"is article<|eos|>\"]\n",
        "        self.X = [encoder.encode(x, allowed_special=ALLOWED_SPECIAL) for x in x_decoded]\n",
        "        self.Y = [encoder.encode(y, allowed_special=ALLOWED_SPECIAL) for y in y_decoded]\n",
        "\n",
        "\n",
        "mock_dataset = MockDataset()\n",
        "print(mock_dataset.X)\n",
        "mock_fine_tune_dataset = FineTuneDataset(mock_dataset, mock_dataset, 30)\n",
        "print(mock_dataset.X)\n",
        "\n",
        "\n",
        "for mock_input, mock_output, mock_mask in mock_fine_tune_dataset:\n",
        "    for i in range(len(mock_mask)):\n",
        "        context = []\n",
        "        for j in range(len(mock_mask[i])):\n",
        "            if mock_mask[i][j] == 0:\n",
        "                break\n",
        "            context.append(mock_input[j])\n",
        "        print(f\"{encoder.decode(context)} => {encoder.decode([mock_output[i]])}\")"
      ],
      "metadata": {
        "id": "7NhpOAxSjJ0G"
      },
      "execution_count": null,
      "outputs": []
    },
    {
      "cell_type": "code",
      "source": [
        "import gc\n",
        "gc.collect()\n",
        "\n",
        "train_loader = torch.utils.data.DataLoader(\n",
        "    dataset = train_dataset,\n",
        "    num_workers = 0,\n",
        "    batch_size = config['batch_size'],\n",
        "    shuffle = True,\n",
        "    pin_memory = True\n",
        ")\n",
        "\n",
        "squad_val_loader = torch.utils.data.DataLoader(\n",
        "    dataset = squad_val_dataset,\n",
        "    num_workers = 0,\n",
        "    batch_size = config['batch_size'],\n",
        "    shuffle = False,\n",
        "    pin_memory = True\n",
        ")\n",
        "\n",
        "cnn_val_loader = torch.utils.data.DataLoader(\n",
        "    dataset = cnn_val_dataset,\n",
        "    num_workers = 0,\n",
        "    batch_size = config['batch_size'],\n",
        "    shuffle = False,\n",
        "    pin_memory = True\n",
        ")"
      ],
      "metadata": {
        "id": "WQjj_f8YjjUz"
      },
      "execution_count": 19,
      "outputs": []
    },
    {
      "cell_type": "code",
      "source": [
        "torch.cuda.empty_cache()\n",
        "gc.collect()\n",
        "\n",
        "last_epoch_completed = 0\n",
        "start = last_epoch_completed\n",
        "end = config[\"epochs\"]\n",
        "best_model_path = 'best_finetune.pth' # set best model path\n",
        "best_loss = float('inf')\n",
        "\n",
        "if 'resume_from' in config and config['resume_from']:\n",
        "  _, _, _, last_epoch_completed, best_loss = load_model(config['resume_from'], model)\n",
        "\n",
        "#TODO: Please complete the training loop\n",
        "\n",
        "for epoch in range(last_epoch_completed, end):\n",
        "\n",
        "    print(\"\\nEpoch: {}/{}\".format(epoch+1, config['epochs']))\n",
        "\n",
        "    curr_lr = optimizer.param_groups[0]['lr']\n",
        "\n",
        "    train_loss                = train_model(model, train_loader, criterion, optimizer, finetune=True)\n",
        "    squad_val_loss            = validate_model(model, squad_val_loader, criterion, finetune=True)\n",
        "    cnn_val_loss              = validate_model(model, cnn_val_loader, criterion, finetune=True)\n",
        "\n",
        "    valid_loss = (squad_val_loss + cnn_val_loss) / 2\n",
        "\n",
        "    scheduler.step(valid_loss)\n",
        "\n",
        "    print(\"\\tTrain Loss {:.04f}\\t Learning Rate {:.07f}\".format(train_loss, curr_lr))\n",
        "    print(\"\\tVal Loss {:.04f} \\t Squad {:.04f} \\t CNN {:.04f}\".format(valid_loss, squad_val_loss, cnn_val_loss))\n",
        "\n",
        "\n",
        "    wandb.log({\n",
        "        'train_loss': train_loss,\n",
        "        'valid_loss': valid_loss,\n",
        "        'squad_loss': squad_val_loss,\n",
        "        'cnn_loss'  : cnn_val_loss,\n",
        "        'lr'        : curr_lr,\n",
        "    })\n",
        "    epoch_model_path = f'finetune-checkpoint-{epoch}.pth'\n",
        "    save_model(model, optimizer, scheduler, valid_loss, epoch, epoch_model_path)\n",
        "    # wandb.save(epoch_model_path)\n",
        "    print(\"Saved epoch model\")\n",
        "\n",
        "    if valid_loss <= best_loss:\n",
        "        best_loss = valid_loss\n",
        "        save_model(model, optimizer, scheduler,valid_loss, epoch, best_model_path)\n",
        "        wandb.save(best_model_path)\n",
        "        print(\"Saved best model\")\n",
        "      # You may find it interesting to exlplore Wandb Artifcats to version your models\n",
        "\n",
        "run.finish()"
      ],
      "metadata": {
        "colab": {
          "base_uri": "https://localhost:8080/",
          "height": 538
        },
        "id": "uoNSb6Y7x6ND",
        "outputId": "fbe23326-b59f-493a-cb5f-bedf1b26b467"
      },
      "execution_count": 20,
      "outputs": [
        {
          "output_type": "stream",
          "name": "stdout",
          "text": [
            "\n",
            "Epoch: 25/100\n"
          ]
        },
        {
          "output_type": "stream",
          "name": "stderr",
          "text": [
            "Train:   0%|          | 3/34786 [00:04<11:59:35,  1.24s/it, loss=1.1496, lr=0.001000]"
          ]
        },
        {
          "output_type": "error",
          "ename": "KeyboardInterrupt",
          "evalue": "ignored",
          "traceback": [
            "\u001b[0;31m---------------------------------------------------------------------------\u001b[0m",
            "\u001b[0;31mKeyboardInterrupt\u001b[0m                         Traceback (most recent call last)",
            "\u001b[0;32m<ipython-input-20-91477fcd16c9>\u001b[0m in \u001b[0;36m<cell line: 15>\u001b[0;34m()\u001b[0m\n\u001b[1;32m     19\u001b[0m     \u001b[0mcurr_lr\u001b[0m \u001b[0;34m=\u001b[0m \u001b[0moptimizer\u001b[0m\u001b[0;34m.\u001b[0m\u001b[0mparam_groups\u001b[0m\u001b[0;34m[\u001b[0m\u001b[0;36m0\u001b[0m\u001b[0;34m]\u001b[0m\u001b[0;34m[\u001b[0m\u001b[0;34m'lr'\u001b[0m\u001b[0;34m]\u001b[0m\u001b[0;34m\u001b[0m\u001b[0;34m\u001b[0m\u001b[0m\n\u001b[1;32m     20\u001b[0m \u001b[0;34m\u001b[0m\u001b[0m\n\u001b[0;32m---> 21\u001b[0;31m     \u001b[0mtrain_loss\u001b[0m                \u001b[0;34m=\u001b[0m \u001b[0mtrain_model\u001b[0m\u001b[0;34m(\u001b[0m\u001b[0mmodel\u001b[0m\u001b[0;34m,\u001b[0m \u001b[0mtrain_loader\u001b[0m\u001b[0;34m,\u001b[0m \u001b[0mcriterion\u001b[0m\u001b[0;34m,\u001b[0m \u001b[0moptimizer\u001b[0m\u001b[0;34m,\u001b[0m \u001b[0mfinetune\u001b[0m\u001b[0;34m=\u001b[0m\u001b[0;32mTrue\u001b[0m\u001b[0;34m)\u001b[0m\u001b[0;34m\u001b[0m\u001b[0;34m\u001b[0m\u001b[0m\n\u001b[0m\u001b[1;32m     22\u001b[0m     \u001b[0msquad_val_loss\u001b[0m            \u001b[0;34m=\u001b[0m \u001b[0mvalidate_model\u001b[0m\u001b[0;34m(\u001b[0m\u001b[0mmodel\u001b[0m\u001b[0;34m,\u001b[0m \u001b[0msquad_val_loader\u001b[0m\u001b[0;34m,\u001b[0m \u001b[0mcriterion\u001b[0m\u001b[0;34m,\u001b[0m \u001b[0mfinetune\u001b[0m\u001b[0;34m=\u001b[0m\u001b[0;32mTrue\u001b[0m\u001b[0;34m)\u001b[0m\u001b[0;34m\u001b[0m\u001b[0;34m\u001b[0m\u001b[0m\n\u001b[1;32m     23\u001b[0m     \u001b[0mcnn_val_loss\u001b[0m              \u001b[0;34m=\u001b[0m \u001b[0mvalidate_model\u001b[0m\u001b[0;34m(\u001b[0m\u001b[0mmodel\u001b[0m\u001b[0;34m,\u001b[0m \u001b[0mcnn_val_loader\u001b[0m\u001b[0;34m,\u001b[0m \u001b[0mcriterion\u001b[0m\u001b[0;34m,\u001b[0m \u001b[0mfinetune\u001b[0m\u001b[0;34m=\u001b[0m\u001b[0;32mTrue\u001b[0m\u001b[0;34m)\u001b[0m\u001b[0;34m\u001b[0m\u001b[0;34m\u001b[0m\u001b[0m\n",
            "\u001b[0;32m<ipython-input-8-42f444e327d7>\u001b[0m in \u001b[0;36mtrain_model\u001b[0;34m(model, train_loader, criterion, optimizer, finetune)\u001b[0m\n\u001b[1;32m     32\u001b[0m \u001b[0;34m\u001b[0m\u001b[0m\n\u001b[1;32m     33\u001b[0m         \u001b[0;31m# Another couple things you need for FP16.\u001b[0m\u001b[0;34m\u001b[0m\u001b[0;34m\u001b[0m\u001b[0m\n\u001b[0;32m---> 34\u001b[0;31m         \u001b[0mscaler\u001b[0m\u001b[0;34m.\u001b[0m\u001b[0mscale\u001b[0m\u001b[0;34m(\u001b[0m\u001b[0mloss\u001b[0m\u001b[0;34m)\u001b[0m\u001b[0;34m.\u001b[0m\u001b[0mbackward\u001b[0m\u001b[0;34m(\u001b[0m\u001b[0;34m)\u001b[0m \u001b[0;31m# This is a replacement for loss.backward()\u001b[0m\u001b[0;34m\u001b[0m\u001b[0;34m\u001b[0m\u001b[0m\n\u001b[0m\u001b[1;32m     35\u001b[0m         \u001b[0mscaler\u001b[0m\u001b[0;34m.\u001b[0m\u001b[0mstep\u001b[0m\u001b[0;34m(\u001b[0m\u001b[0moptimizer\u001b[0m\u001b[0;34m)\u001b[0m \u001b[0;31m# This is a replacement for optimizer.step()\u001b[0m\u001b[0;34m\u001b[0m\u001b[0;34m\u001b[0m\u001b[0m\n\u001b[1;32m     36\u001b[0m         \u001b[0mscaler\u001b[0m\u001b[0;34m.\u001b[0m\u001b[0mupdate\u001b[0m\u001b[0;34m(\u001b[0m\u001b[0;34m)\u001b[0m \u001b[0;31m# This is something added just for FP16\u001b[0m\u001b[0;34m\u001b[0m\u001b[0;34m\u001b[0m\u001b[0m\n",
            "\u001b[0;32m/usr/local/lib/python3.10/dist-packages/torch/_tensor.py\u001b[0m in \u001b[0;36mbackward\u001b[0;34m(self, gradient, retain_graph, create_graph, inputs)\u001b[0m\n\u001b[1;32m    485\u001b[0m                 \u001b[0minputs\u001b[0m\u001b[0;34m=\u001b[0m\u001b[0minputs\u001b[0m\u001b[0;34m,\u001b[0m\u001b[0;34m\u001b[0m\u001b[0;34m\u001b[0m\u001b[0m\n\u001b[1;32m    486\u001b[0m             )\n\u001b[0;32m--> 487\u001b[0;31m         torch.autograd.backward(\n\u001b[0m\u001b[1;32m    488\u001b[0m             \u001b[0mself\u001b[0m\u001b[0;34m,\u001b[0m \u001b[0mgradient\u001b[0m\u001b[0;34m,\u001b[0m \u001b[0mretain_graph\u001b[0m\u001b[0;34m,\u001b[0m \u001b[0mcreate_graph\u001b[0m\u001b[0;34m,\u001b[0m \u001b[0minputs\u001b[0m\u001b[0;34m=\u001b[0m\u001b[0minputs\u001b[0m\u001b[0;34m\u001b[0m\u001b[0;34m\u001b[0m\u001b[0m\n\u001b[1;32m    489\u001b[0m         )\n",
            "\u001b[0;32m/usr/local/lib/python3.10/dist-packages/torch/autograd/__init__.py\u001b[0m in \u001b[0;36mbackward\u001b[0;34m(tensors, grad_tensors, retain_graph, create_graph, grad_variables, inputs)\u001b[0m\n\u001b[1;32m    198\u001b[0m     \u001b[0;31m# some Python versions print out the first line of a multi-line function\u001b[0m\u001b[0;34m\u001b[0m\u001b[0;34m\u001b[0m\u001b[0m\n\u001b[1;32m    199\u001b[0m     \u001b[0;31m# calls in the traceback and some print out the last line\u001b[0m\u001b[0;34m\u001b[0m\u001b[0;34m\u001b[0m\u001b[0m\n\u001b[0;32m--> 200\u001b[0;31m     Variable._execution_engine.run_backward(  # Calls into the C++ engine to run the backward pass\n\u001b[0m\u001b[1;32m    201\u001b[0m         \u001b[0mtensors\u001b[0m\u001b[0;34m,\u001b[0m \u001b[0mgrad_tensors_\u001b[0m\u001b[0;34m,\u001b[0m \u001b[0mretain_graph\u001b[0m\u001b[0;34m,\u001b[0m \u001b[0mcreate_graph\u001b[0m\u001b[0;34m,\u001b[0m \u001b[0minputs\u001b[0m\u001b[0;34m,\u001b[0m\u001b[0;34m\u001b[0m\u001b[0;34m\u001b[0m\u001b[0m\n\u001b[1;32m    202\u001b[0m         allow_unreachable=True, accumulate_grad=True)  # Calls into the C++ engine to run the backward pass\n",
            "\u001b[0;31mKeyboardInterrupt\u001b[0m: "
          ]
        }
      ]
    },
    {
      "cell_type": "code",
      "source": [
        "save_model(model, optimizer, scheduler,valid_loss, epoch, \"best_finetune.pth\")"
      ],
      "metadata": {
        "id": "JbnZ2fcFm3wh"
      },
      "execution_count": null,
      "outputs": []
    },
    {
      "cell_type": "code",
      "source": [
        "_, _, _, last_epoch_completed, best_loss = load_model(\"best_finetune.pth\", model)\n"
      ],
      "metadata": {
        "id": "JdYokvrITJNG"
      },
      "execution_count": 53,
      "outputs": []
    },
    {
      "cell_type": "code",
      "source": [
        "# infer squad\n",
        "\n",
        "model.eval()\n",
        "\n",
        "max_output = 20\n",
        "block_size = config['block_size']\n",
        "\n",
        "X = cnn_val.X\n",
        "Y = cnn_val.Y\n",
        "\n",
        "for i in tqdm(range(1)):\n",
        "  x, y = X[i], Y[i]\n",
        "  x = np.array(encoder.encode(\"\"\"Carnegie Mellon University isn’t just one of the world’s most renowned educational institutions\n",
        "– it’s also a hub for some of the most talented doers, dreamers and difference-makers on the\n",
        "planet. Carnegie Mellon is a private, internationally ranked research university with programs in\n",
        "areas ranging from science, technology and business to public policy, the humanities and the\n",
        "arts. Our community includes more than 14,000 students in the university’s seven schools and\n",
        "colleges who benefit from a small student-to-faculty ratio and an education characterized by its\n",
        "focus on innovation, interdisciplinary collaboration, and implementing solutions for real world\n",
        "problems. Our commitment to diversity, equity and inclusion is woven into all aspects of our\n",
        "campus culture, and we cultivate a vibrant, welcoming environment where everyone is valued.\n",
        "  \"\"\"))\n",
        "\n",
        "  # infer from x\n",
        "  valid_input_len = len(x) + len(y) - 1\n",
        "  t = 0\n",
        "  mask = torch.full((block_size, block_size), 0)\n",
        "  mask[:, 0:len(x)] = 1\n",
        "\n",
        "  while t < 30:\n",
        "    t += 1\n",
        "    input = torch.full((block_size, ), PAD_ENC[0]).type(torch.LongTensor)\n",
        "    if len(x) <= block_size:\n",
        "      input[:len(x)] = torch.tensor(x.astype(\"int32\"))\n",
        "    mask[:, 0:len(x)] = 1\n",
        "\n",
        "    logits = model(input.unsqueeze(0).to(device), mask.unsqueeze(0).to(device))\n",
        "\n",
        "    new_encode = torch.argmax(logits[0][1], dim=-1)\n",
        "\n",
        "    x = np.append(x, new_encode.item())\n",
        "    print(encoder.decode(input.tolist()))\n",
        "    # if new_encode == EOS_ENC[0]:\n",
        "    #   break"
      ],
      "metadata": {
        "colab": {
          "base_uri": "https://localhost:8080/"
        },
        "id": "y1II28gV6oGD",
        "outputId": "e76d74ab-f3a6-448f-db74-f7cdc4663e84"
      },
      "execution_count": 68,
      "outputs": [
        {
          "output_type": "stream",
          "name": "stderr",
          "text": [
            "\r  0%|          | 0/1 [00:00<?, ?it/s]"
          ]
        },
        {
          "output_type": "stream",
          "name": "stdout",
          "text": [
            "Carnegie Mellon University isn’t just one of the world’s most renowned educational institutions\n",
            "– it’s also a hub for some of the most talented doers, dreamers and difference-makers on the\n",
            "planet. Carnegie Mellon is a private, internationally ranked research university with programs in\n",
            "areas ranging from science, technology and business to public policy, the humanities and the\n",
            "arts. Our community includes more than 14,000 students in the university’s seven schools and\n",
            "colleges who benefit from a small student-to-faculty ratio and an education characterized by its\n",
            "focus on innovation, interdisciplinary collaboration, and implementing solutions for real world\n",
            "problems. Our commitment to diversity, equity and inclusion is woven into all aspects of our\n",
            "campus culture, and we cultivate a vibrant, welcoming environment where everyone is valued.\n",
            "                                                                                                                                                                                                                                                                                                                                                                                                                                                                                                                                                                                                                                                                                                                                                                                                                                                                                 \n",
            "Carnegie Mellon University isn’t just one of the world’s most renowned educational institutions\n",
            "– it’s also a hub for some of the most talented doers, dreamers and difference-makers on the\n",
            "planet. Carnegie Mellon is a private, internationally ranked research university with programs in\n",
            "areas ranging from science, technology and business to public policy, the humanities and the\n",
            "arts. Our community includes more than 14,000 students in the university’s seven schools and\n",
            "colleges who benefit from a small student-to-faculty ratio and an education characterized by its\n",
            "focus on innovation, interdisciplinary collaboration, and implementing solutions for real world\n",
            "problems. Our commitment to diversity, equity and inclusion is woven into all aspects of our\n",
            "campus culture, and we cultivate a vibrant, welcoming environment where everyone is valued.\n",
            "  <|eos|>                                                                                                                                                                                                                                                                                                                                                                                                                                                                                                                                                                                                                                                                                                                                                                                                                                                                              \n",
            "Carnegie Mellon University isn’t just one of the world’s most renowned educational institutions\n",
            "– it’s also a hub for some of the most talented doers, dreamers and difference-makers on the\n",
            "planet. Carnegie Mellon is a private, internationally ranked research university with programs in\n",
            "areas ranging from science, technology and business to public policy, the humanities and the\n",
            "arts. Our community includes more than 14,000 students in the university’s seven schools and\n",
            "colleges who benefit from a small student-to-faculty ratio and an education characterized by its\n",
            "focus on innovation, interdisciplinary collaboration, and implementing solutions for real world\n",
            "problems. Our commitment to diversity, equity and inclusion is woven into all aspects of our\n",
            "campus culture, and we cultivate a vibrant, welcoming environment where everyone is valued.\n",
            "  <|eos|><|eos|>                                                                                                                                                                                                                                                                                                                                                                                                                                                                                                                                                                                                                                                                                                                                                                                                                                                                             \n",
            "Carnegie Mellon University isn’t just one of the world’s most renowned educational institutions\n",
            "– it’s also a hub for some of the most talented doers, dreamers and difference-makers on the\n",
            "planet. Carnegie Mellon is a private, internationally ranked research university with programs in\n",
            "areas ranging from science, technology and business to public policy, the humanities and the\n",
            "arts. Our community includes more than 14,000 students in the university’s seven schools and\n",
            "colleges who benefit from a small student-to-faculty ratio and an education characterized by its\n",
            "focus on innovation, interdisciplinary collaboration, and implementing solutions for real world\n",
            "problems. Our commitment to diversity, equity and inclusion is woven into all aspects of our\n",
            "campus culture, and we cultivate a vibrant, welcoming environment where everyone is valued.\n",
            "  <|eos|><|eos|><|eos|>                                                                                                                                                                                                                                                                                                                                                                                                                                                                                                                                                                                                                                                                                                                                                                                                                                                                            \n",
            "Carnegie Mellon University isn’t just one of the world’s most renowned educational institutions\n",
            "– it’s also a hub for some of the most talented doers, dreamers and difference-makers on the\n",
            "planet. Carnegie Mellon is a private, internationally ranked research university with programs in\n",
            "areas ranging from science, technology and business to public policy, the humanities and the\n",
            "arts. Our community includes more than 14,000 students in the university’s seven schools and\n",
            "colleges who benefit from a small student-to-faculty ratio and an education characterized by its\n",
            "focus on innovation, interdisciplinary collaboration, and implementing solutions for real world\n",
            "problems. Our commitment to diversity, equity and inclusion is woven into all aspects of our\n",
            "campus culture, and we cultivate a vibrant, welcoming environment where everyone is valued.\n",
            "  <|eos|><|eos|><|eos|><|eos|>                                                                                                                                                                                                                                                                                                                                                                                                                                                                                                                                                                                                                                                                                                                                                                                                                                                                           \n",
            "Carnegie Mellon University isn’t just one of the world’s most renowned educational institutions\n",
            "– it’s also a hub for some of the most talented doers, dreamers and difference-makers on the\n",
            "planet. Carnegie Mellon is a private, internationally ranked research university with programs in\n",
            "areas ranging from science, technology and business to public policy, the humanities and the\n",
            "arts. Our community includes more than 14,000 students in the university’s seven schools and\n",
            "colleges who benefit from a small student-to-faculty ratio and an education characterized by its\n",
            "focus on innovation, interdisciplinary collaboration, and implementing solutions for real world\n",
            "problems. Our commitment to diversity, equity and inclusion is woven into all aspects of our\n",
            "campus culture, and we cultivate a vibrant, welcoming environment where everyone is valued.\n",
            "  <|eos|><|eos|><|eos|><|eos|><|eos|>                                                                                                                                                                                                                                                                                                                                                                                                                                                                                                                                                                                                                                                                                                                                                                                                                                                                          \n",
            "Carnegie Mellon University isn’t just one of the world’s most renowned educational institutions\n",
            "– it’s also a hub for some of the most talented doers, dreamers and difference-makers on the\n",
            "planet. Carnegie Mellon is a private, internationally ranked research university with programs in\n",
            "areas ranging from science, technology and business to public policy, the humanities and the\n",
            "arts. Our community includes more than 14,000 students in the university’s seven schools and\n",
            "colleges who benefit from a small student-to-faculty ratio and an education characterized by its\n",
            "focus on innovation, interdisciplinary collaboration, and implementing solutions for real world\n",
            "problems. Our commitment to diversity, equity and inclusion is woven into all aspects of our\n",
            "campus culture, and we cultivate a vibrant, welcoming environment where everyone is valued.\n",
            "  <|eos|><|eos|><|eos|><|eos|><|eos|><|eos|>                                                                                                                                                                                                                                                                                                                                                                                                                                                                                                                                                                                                                                                                                                                                                                                                                                                                         \n",
            "Carnegie Mellon University isn’t just one of the world’s most renowned educational institutions\n",
            "– it’s also a hub for some of the most talented doers, dreamers and difference-makers on the\n",
            "planet. Carnegie Mellon is a private, internationally ranked research university with programs in\n",
            "areas ranging from science, technology and business to public policy, the humanities and the\n",
            "arts. Our community includes more than 14,000 students in the university’s seven schools and\n",
            "colleges who benefit from a small student-to-faculty ratio and an education characterized by its\n",
            "focus on innovation, interdisciplinary collaboration, and implementing solutions for real world\n",
            "problems. Our commitment to diversity, equity and inclusion is woven into all aspects of our\n",
            "campus culture, and we cultivate a vibrant, welcoming environment where everyone is valued.\n",
            "  <|eos|><|eos|><|eos|><|eos|><|eos|><|eos|><|eos|>                                                                                                                                                                                                                                                                                                                                                                                                                                                                                                                                                                                                                                                                                                                                                                                                                                                                        \n",
            "Carnegie Mellon University isn’t just one of the world’s most renowned educational institutions\n",
            "– it’s also a hub for some of the most talented doers, dreamers and difference-makers on the\n",
            "planet. Carnegie Mellon is a private, internationally ranked research university with programs in\n",
            "areas ranging from science, technology and business to public policy, the humanities and the\n",
            "arts. Our community includes more than 14,000 students in the university’s seven schools and\n",
            "colleges who benefit from a small student-to-faculty ratio and an education characterized by its\n",
            "focus on innovation, interdisciplinary collaboration, and implementing solutions for real world\n",
            "problems. Our commitment to diversity, equity and inclusion is woven into all aspects of our\n",
            "campus culture, and we cultivate a vibrant, welcoming environment where everyone is valued.\n",
            "  <|eos|><|eos|><|eos|><|eos|><|eos|><|eos|><|eos|><|eos|>                                                                                                                                                                                                                                                                                                                                                                                                                                                                                                                                                                                                                                                                                                                                                                                                                                                                       \n",
            "Carnegie Mellon University isn’t just one of the world’s most renowned educational institutions\n",
            "– it’s also a hub for some of the most talented doers, dreamers and difference-makers on the\n",
            "planet. Carnegie Mellon is a private, internationally ranked research university with programs in\n",
            "areas ranging from science, technology and business to public policy, the humanities and the\n",
            "arts. Our community includes more than 14,000 students in the university’s seven schools and\n",
            "colleges who benefit from a small student-to-faculty ratio and an education characterized by its\n",
            "focus on innovation, interdisciplinary collaboration, and implementing solutions for real world\n",
            "problems. Our commitment to diversity, equity and inclusion is woven into all aspects of our\n",
            "campus culture, and we cultivate a vibrant, welcoming environment where everyone is valued.\n",
            "  <|eos|><|eos|><|eos|><|eos|><|eos|><|eos|><|eos|><|eos|><|eos|>                                                                                                                                                                                                                                                                                                                                                                                                                                                                                                                                                                                                                                                                                                                                                                                                                                                                      \n",
            "Carnegie Mellon University isn’t just one of the world’s most renowned educational institutions\n",
            "– it’s also a hub for some of the most talented doers, dreamers and difference-makers on the\n",
            "planet. Carnegie Mellon is a private, internationally ranked research university with programs in\n",
            "areas ranging from science, technology and business to public policy, the humanities and the\n",
            "arts. Our community includes more than 14,000 students in the university’s seven schools and\n",
            "colleges who benefit from a small student-to-faculty ratio and an education characterized by its\n",
            "focus on innovation, interdisciplinary collaboration, and implementing solutions for real world\n",
            "problems. Our commitment to diversity, equity and inclusion is woven into all aspects of our\n",
            "campus culture, and we cultivate a vibrant, welcoming environment where everyone is valued.\n",
            "  <|eos|><|eos|><|eos|><|eos|><|eos|><|eos|><|eos|><|eos|><|eos|><|eos|>                                                                                                                                                                                                                                                                                                                                                                                                                                                                                                                                                                                                                                                                                                                                                                                                                                                                     \n",
            "Carnegie Mellon University isn’t just one of the world’s most renowned educational institutions\n",
            "– it’s also a hub for some of the most talented doers, dreamers and difference-makers on the\n",
            "planet. Carnegie Mellon is a private, internationally ranked research university with programs in\n",
            "areas ranging from science, technology and business to public policy, the humanities and the\n",
            "arts. Our community includes more than 14,000 students in the university’s seven schools and\n",
            "colleges who benefit from a small student-to-faculty ratio and an education characterized by its\n",
            "focus on innovation, interdisciplinary collaboration, and implementing solutions for real world\n",
            "problems. Our commitment to diversity, equity and inclusion is woven into all aspects of our\n",
            "campus culture, and we cultivate a vibrant, welcoming environment where everyone is valued.\n",
            "  <|eos|><|eos|><|eos|><|eos|><|eos|><|eos|><|eos|><|eos|><|eos|><|eos|><|eos|>                                                                                                                                                                                                                                                                                                                                                                                                                                                                                                                                                                                                                                                                                                                                                                                                                                                                    \n",
            "Carnegie Mellon University isn’t just one of the world’s most renowned educational institutions\n",
            "– it’s also a hub for some of the most talented doers, dreamers and difference-makers on the\n",
            "planet. Carnegie Mellon is a private, internationally ranked research university with programs in\n",
            "areas ranging from science, technology and business to public policy, the humanities and the\n",
            "arts. Our community includes more than 14,000 students in the university’s seven schools and\n",
            "colleges who benefit from a small student-to-faculty ratio and an education characterized by its\n",
            "focus on innovation, interdisciplinary collaboration, and implementing solutions for real world\n",
            "problems. Our commitment to diversity, equity and inclusion is woven into all aspects of our\n",
            "campus culture, and we cultivate a vibrant, welcoming environment where everyone is valued.\n",
            "  <|eos|><|eos|><|eos|><|eos|><|eos|><|eos|><|eos|><|eos|><|eos|><|eos|><|eos|><|eos|>                                                                                                                                                                                                                                                                                                                                                                                                                                                                                                                                                                                                                                                                                                                                                                                                                                                                   \n",
            "Carnegie Mellon University isn’t just one of the world’s most renowned educational institutions\n",
            "– it’s also a hub for some of the most talented doers, dreamers and difference-makers on the\n",
            "planet. Carnegie Mellon is a private, internationally ranked research university with programs in\n",
            "areas ranging from science, technology and business to public policy, the humanities and the\n",
            "arts. Our community includes more than 14,000 students in the university’s seven schools and\n",
            "colleges who benefit from a small student-to-faculty ratio and an education characterized by its\n",
            "focus on innovation, interdisciplinary collaboration, and implementing solutions for real world\n",
            "problems. Our commitment to diversity, equity and inclusion is woven into all aspects of our\n",
            "campus culture, and we cultivate a vibrant, welcoming environment where everyone is valued.\n",
            "  <|eos|><|eos|><|eos|><|eos|><|eos|><|eos|><|eos|><|eos|><|eos|><|eos|><|eos|><|eos|><|eos|>                                                                                                                                                                                                                                                                                                                                                                                                                                                                                                                                                                                                                                                                                                                                                                                                                                                                  \n",
            "Carnegie Mellon University isn’t just one of the world’s most renowned educational institutions\n",
            "– it’s also a hub for some of the most talented doers, dreamers and difference-makers on the\n",
            "planet. Carnegie Mellon is a private, internationally ranked research university with programs in\n",
            "areas ranging from science, technology and business to public policy, the humanities and the\n",
            "arts. Our community includes more than 14,000 students in the university’s seven schools and\n",
            "colleges who benefit from a small student-to-faculty ratio and an education characterized by its\n",
            "focus on innovation, interdisciplinary collaboration, and implementing solutions for real world\n",
            "problems. Our commitment to diversity, equity and inclusion is woven into all aspects of our\n",
            "campus culture, and we cultivate a vibrant, welcoming environment where everyone is valued.\n",
            "  <|eos|><|eos|><|eos|><|eos|><|eos|><|eos|><|eos|><|eos|><|eos|><|eos|><|eos|><|eos|><|eos|><|eos|>                                                                                                                                                                                                                                                                                                                                                                                                                                                                                                                                                                                                                                                                                                                                                                                                                                                                 \n",
            "Carnegie Mellon University isn’t just one of the world’s most renowned educational institutions\n",
            "– it’s also a hub for some of the most talented doers, dreamers and difference-makers on the\n",
            "planet. Carnegie Mellon is a private, internationally ranked research university with programs in\n",
            "areas ranging from science, technology and business to public policy, the humanities and the\n",
            "arts. Our community includes more than 14,000 students in the university’s seven schools and\n",
            "colleges who benefit from a small student-to-faculty ratio and an education characterized by its\n",
            "focus on innovation, interdisciplinary collaboration, and implementing solutions for real world\n",
            "problems. Our commitment to diversity, equity and inclusion is woven into all aspects of our\n",
            "campus culture, and we cultivate a vibrant, welcoming environment where everyone is valued.\n",
            "  <|eos|><|eos|><|eos|><|eos|><|eos|><|eos|><|eos|><|eos|><|eos|><|eos|><|eos|><|eos|><|eos|><|eos|><|eos|>                                                                                                                                                                                                                                                                                                                                                                                                                                                                                                                                                                                                                                                                                                                                                                                                                                                                \n",
            "Carnegie Mellon University isn’t just one of the world’s most renowned educational institutions\n",
            "– it’s also a hub for some of the most talented doers, dreamers and difference-makers on the\n",
            "planet. Carnegie Mellon is a private, internationally ranked research university with programs in\n",
            "areas ranging from science, technology and business to public policy, the humanities and the\n",
            "arts. Our community includes more than 14,000 students in the university’s seven schools and\n",
            "colleges who benefit from a small student-to-faculty ratio and an education characterized by its\n",
            "focus on innovation, interdisciplinary collaboration, and implementing solutions for real world\n",
            "problems. Our commitment to diversity, equity and inclusion is woven into all aspects of our\n",
            "campus culture, and we cultivate a vibrant, welcoming environment where everyone is valued.\n",
            "  <|eos|><|eos|><|eos|><|eos|><|eos|><|eos|><|eos|><|eos|><|eos|><|eos|><|eos|><|eos|><|eos|><|eos|><|eos|><|eos|>                                                                                                                                                                                                                                                                                                                                                                                                                                                                                                                                                                                                                                                                                                                                                                                                                                                               \n",
            "Carnegie Mellon University isn’t just one of the world’s most renowned educational institutions\n",
            "– it’s also a hub for some of the most talented doers, dreamers and difference-makers on the\n",
            "planet. Carnegie Mellon is a private, internationally ranked research university with programs in\n",
            "areas ranging from science, technology and business to public policy, the humanities and the\n",
            "arts. Our community includes more than 14,000 students in the university’s seven schools and\n",
            "colleges who benefit from a small student-to-faculty ratio and an education characterized by its\n",
            "focus on innovation, interdisciplinary collaboration, and implementing solutions for real world\n",
            "problems. Our commitment to diversity, equity and inclusion is woven into all aspects of our\n",
            "campus culture, and we cultivate a vibrant, welcoming environment where everyone is valued.\n",
            "  <|eos|><|eos|><|eos|><|eos|><|eos|><|eos|><|eos|><|eos|><|eos|><|eos|><|eos|><|eos|><|eos|><|eos|><|eos|><|eos|><|eos|>                                                                                                                                                                                                                                                                                                                                                                                                                                                                                                                                                                                                                                                                                                                                                                                                                                                              \n",
            "Carnegie Mellon University isn’t just one of the world’s most renowned educational institutions\n",
            "– it’s also a hub for some of the most talented doers, dreamers and difference-makers on the\n",
            "planet. Carnegie Mellon is a private, internationally ranked research university with programs in\n",
            "areas ranging from science, technology and business to public policy, the humanities and the\n",
            "arts. Our community includes more than 14,000 students in the university’s seven schools and\n",
            "colleges who benefit from a small student-to-faculty ratio and an education characterized by its\n",
            "focus on innovation, interdisciplinary collaboration, and implementing solutions for real world\n",
            "problems. Our commitment to diversity, equity and inclusion is woven into all aspects of our\n",
            "campus culture, and we cultivate a vibrant, welcoming environment where everyone is valued.\n",
            "  <|eos|><|eos|><|eos|><|eos|><|eos|><|eos|><|eos|><|eos|><|eos|><|eos|><|eos|><|eos|><|eos|><|eos|><|eos|><|eos|><|eos|><|eos|>                                                                                                                                                                                                                                                                                                                                                                                                                                                                                                                                                                                                                                                                                                                                                                                                                                                             \n",
            "Carnegie Mellon University isn’t just one of the world’s most renowned educational institutions\n",
            "– it’s also a hub for some of the most talented doers, dreamers and difference-makers on the\n",
            "planet. Carnegie Mellon is a private, internationally ranked research university with programs in\n",
            "areas ranging from science, technology and business to public policy, the humanities and the\n",
            "arts. Our community includes more than 14,000 students in the university’s seven schools and\n",
            "colleges who benefit from a small student-to-faculty ratio and an education characterized by its\n",
            "focus on innovation, interdisciplinary collaboration, and implementing solutions for real world\n",
            "problems. Our commitment to diversity, equity and inclusion is woven into all aspects of our\n",
            "campus culture, and we cultivate a vibrant, welcoming environment where everyone is valued.\n",
            "  <|eos|><|eos|><|eos|><|eos|><|eos|><|eos|><|eos|><|eos|><|eos|><|eos|><|eos|><|eos|><|eos|><|eos|><|eos|><|eos|><|eos|><|eos|><|eos|>                                                                                                                                                                                                                                                                                                                                                                                                                                                                                                                                                                                                                                                                                                                                                                                                                                                            \n",
            "Carnegie Mellon University isn’t just one of the world’s most renowned educational institutions\n",
            "– it’s also a hub for some of the most talented doers, dreamers and difference-makers on the\n",
            "planet. Carnegie Mellon is a private, internationally ranked research university with programs in\n",
            "areas ranging from science, technology and business to public policy, the humanities and the\n",
            "arts. Our community includes more than 14,000 students in the university’s seven schools and\n",
            "colleges who benefit from a small student-to-faculty ratio and an education characterized by its\n",
            "focus on innovation, interdisciplinary collaboration, and implementing solutions for real world\n",
            "problems. Our commitment to diversity, equity and inclusion is woven into all aspects of our\n",
            "campus culture, and we cultivate a vibrant, welcoming environment where everyone is valued.\n",
            "  <|eos|><|eos|><|eos|><|eos|><|eos|><|eos|><|eos|><|eos|><|eos|><|eos|><|eos|><|eos|><|eos|><|eos|><|eos|><|eos|><|eos|><|eos|><|eos|><|eos|>                                                                                                                                                                                                                                                                                                                                                                                                                                                                                                                                                                                                                                                                                                                                                                                                                                                           \n",
            "Carnegie Mellon University isn’t just one of the world’s most renowned educational institutions\n",
            "– it’s also a hub for some of the most talented doers, dreamers and difference-makers on the\n",
            "planet. Carnegie Mellon is a private, internationally ranked research university with programs in\n",
            "areas ranging from science, technology and business to public policy, the humanities and the\n",
            "arts. Our community includes more than 14,000 students in the university’s seven schools and\n",
            "colleges who benefit from a small student-to-faculty ratio and an education characterized by its\n",
            "focus on innovation, interdisciplinary collaboration, and implementing solutions for real world\n",
            "problems. Our commitment to diversity, equity and inclusion is woven into all aspects of our\n",
            "campus culture, and we cultivate a vibrant, welcoming environment where everyone is valued.\n",
            "  <|eos|><|eos|><|eos|><|eos|><|eos|><|eos|><|eos|><|eos|><|eos|><|eos|><|eos|><|eos|><|eos|><|eos|><|eos|><|eos|><|eos|><|eos|><|eos|><|eos|><|eos|>                                                                                                                                                                                                                                                                                                                                                                                                                                                                                                                                                                                                                                                                                                                                                                                                                                                          \n",
            "Carnegie Mellon University isn’t just one of the world’s most renowned educational institutions\n",
            "– it’s also a hub for some of the most talented doers, dreamers and difference-makers on the\n",
            "planet. Carnegie Mellon is a private, internationally ranked research university with programs in\n",
            "areas ranging from science, technology and business to public policy, the humanities and the\n",
            "arts. Our community includes more than 14,000 students in the university’s seven schools and\n",
            "colleges who benefit from a small student-to-faculty ratio and an education characterized by its\n",
            "focus on innovation, interdisciplinary collaboration, and implementing solutions for real world\n",
            "problems. Our commitment to diversity, equity and inclusion is woven into all aspects of our\n",
            "campus culture, and we cultivate a vibrant, welcoming environment where everyone is valued.\n",
            "  <|eos|><|eos|><|eos|><|eos|><|eos|><|eos|><|eos|><|eos|><|eos|><|eos|><|eos|><|eos|><|eos|><|eos|><|eos|><|eos|><|eos|><|eos|><|eos|><|eos|><|eos|> of                                                                                                                                                                                                                                                                                                                                                                                                                                                                                                                                                                                                                                                                                                                                                                                                                                                         \n",
            "Carnegie Mellon University isn’t just one of the world’s most renowned educational institutions\n",
            "– it’s also a hub for some of the most talented doers, dreamers and difference-makers on the\n",
            "planet. Carnegie Mellon is a private, internationally ranked research university with programs in\n",
            "areas ranging from science, technology and business to public policy, the humanities and the\n",
            "arts. Our community includes more than 14,000 students in the university’s seven schools and\n",
            "colleges who benefit from a small student-to-faculty ratio and an education characterized by its\n",
            "focus on innovation, interdisciplinary collaboration, and implementing solutions for real world\n",
            "problems. Our commitment to diversity, equity and inclusion is woven into all aspects of our\n",
            "campus culture, and we cultivate a vibrant, welcoming environment where everyone is valued.\n",
            "  <|eos|><|eos|><|eos|><|eos|><|eos|><|eos|><|eos|><|eos|><|eos|><|eos|><|eos|><|eos|><|eos|><|eos|><|eos|><|eos|><|eos|><|eos|><|eos|><|eos|><|eos|> of<|eos|>                                                                                                                                                                                                                                                                                                                                                                                                                                                                                                                                                                                                                                                                                                                                                                                                                                                        \n"
          ]
        },
        {
          "output_type": "stream",
          "name": "stderr",
          "text": [
            "100%|██████████| 1/1 [00:01<00:00,  1.05s/it]"
          ]
        },
        {
          "output_type": "stream",
          "name": "stdout",
          "text": [
            "Carnegie Mellon University isn’t just one of the world’s most renowned educational institutions\n",
            "– it’s also a hub for some of the most talented doers, dreamers and difference-makers on the\n",
            "planet. Carnegie Mellon is a private, internationally ranked research university with programs in\n",
            "areas ranging from science, technology and business to public policy, the humanities and the\n",
            "arts. Our community includes more than 14,000 students in the university’s seven schools and\n",
            "colleges who benefit from a small student-to-faculty ratio and an education characterized by its\n",
            "focus on innovation, interdisciplinary collaboration, and implementing solutions for real world\n",
            "problems. Our commitment to diversity, equity and inclusion is woven into all aspects of our\n",
            "campus culture, and we cultivate a vibrant, welcoming environment where everyone is valued.\n",
            "  <|eos|><|eos|><|eos|><|eos|><|eos|><|eos|><|eos|><|eos|><|eos|><|eos|><|eos|><|eos|><|eos|><|eos|><|eos|><|eos|><|eos|><|eos|><|eos|><|eos|><|eos|> of<|eos|> of                                                                                                                                                                                                                                                                                                                                                                                                                                                                                                                                                                                                                                                                                                                                                                                                                                                       \n",
            "Carnegie Mellon University isn’t just one of the world’s most renowned educational institutions\n",
            "– it’s also a hub for some of the most talented doers, dreamers and difference-makers on the\n",
            "planet. Carnegie Mellon is a private, internationally ranked research university with programs in\n",
            "areas ranging from science, technology and business to public policy, the humanities and the\n",
            "arts. Our community includes more than 14,000 students in the university’s seven schools and\n",
            "colleges who benefit from a small student-to-faculty ratio and an education characterized by its\n",
            "focus on innovation, interdisciplinary collaboration, and implementing solutions for real world\n",
            "problems. Our commitment to diversity, equity and inclusion is woven into all aspects of our\n",
            "campus culture, and we cultivate a vibrant, welcoming environment where everyone is valued.\n",
            "  <|eos|><|eos|><|eos|><|eos|><|eos|><|eos|><|eos|><|eos|><|eos|><|eos|><|eos|><|eos|><|eos|><|eos|><|eos|><|eos|><|eos|><|eos|><|eos|><|eos|><|eos|> of<|eos|> of<|eos|>                                                                                                                                                                                                                                                                                                                                                                                                                                                                                                                                                                                                                                                                                                                                                                                                                                                      \n",
            "Carnegie Mellon University isn’t just one of the world’s most renowned educational institutions\n",
            "– it’s also a hub for some of the most talented doers, dreamers and difference-makers on the\n",
            "planet. Carnegie Mellon is a private, internationally ranked research university with programs in\n",
            "areas ranging from science, technology and business to public policy, the humanities and the\n",
            "arts. Our community includes more than 14,000 students in the university’s seven schools and\n",
            "colleges who benefit from a small student-to-faculty ratio and an education characterized by its\n",
            "focus on innovation, interdisciplinary collaboration, and implementing solutions for real world\n",
            "problems. Our commitment to diversity, equity and inclusion is woven into all aspects of our\n",
            "campus culture, and we cultivate a vibrant, welcoming environment where everyone is valued.\n",
            "  <|eos|><|eos|><|eos|><|eos|><|eos|><|eos|><|eos|><|eos|><|eos|><|eos|><|eos|><|eos|><|eos|><|eos|><|eos|><|eos|><|eos|><|eos|><|eos|><|eos|><|eos|> of<|eos|> of<|eos|> of                                                                                                                                                                                                                                                                                                                                                                                                                                                                                                                                                                                                                                                                                                                                                                                                                                                     \n",
            "Carnegie Mellon University isn’t just one of the world’s most renowned educational institutions\n",
            "– it’s also a hub for some of the most talented doers, dreamers and difference-makers on the\n",
            "planet. Carnegie Mellon is a private, internationally ranked research university with programs in\n",
            "areas ranging from science, technology and business to public policy, the humanities and the\n",
            "arts. Our community includes more than 14,000 students in the university’s seven schools and\n",
            "colleges who benefit from a small student-to-faculty ratio and an education characterized by its\n",
            "focus on innovation, interdisciplinary collaboration, and implementing solutions for real world\n",
            "problems. Our commitment to diversity, equity and inclusion is woven into all aspects of our\n",
            "campus culture, and we cultivate a vibrant, welcoming environment where everyone is valued.\n",
            "  <|eos|><|eos|><|eos|><|eos|><|eos|><|eos|><|eos|><|eos|><|eos|><|eos|><|eos|><|eos|><|eos|><|eos|><|eos|><|eos|><|eos|><|eos|><|eos|><|eos|><|eos|> of<|eos|> of<|eos|> of<|eos|>                                                                                                                                                                                                                                                                                                                                                                                                                                                                                                                                                                                                                                                                                                                                                                                                                                                    \n",
            "Carnegie Mellon University isn’t just one of the world’s most renowned educational institutions\n",
            "– it’s also a hub for some of the most talented doers, dreamers and difference-makers on the\n",
            "planet. Carnegie Mellon is a private, internationally ranked research university with programs in\n",
            "areas ranging from science, technology and business to public policy, the humanities and the\n",
            "arts. Our community includes more than 14,000 students in the university’s seven schools and\n",
            "colleges who benefit from a small student-to-faculty ratio and an education characterized by its\n",
            "focus on innovation, interdisciplinary collaboration, and implementing solutions for real world\n",
            "problems. Our commitment to diversity, equity and inclusion is woven into all aspects of our\n",
            "campus culture, and we cultivate a vibrant, welcoming environment where everyone is valued.\n",
            "  <|eos|><|eos|><|eos|><|eos|><|eos|><|eos|><|eos|><|eos|><|eos|><|eos|><|eos|><|eos|><|eos|><|eos|><|eos|><|eos|><|eos|><|eos|><|eos|><|eos|><|eos|> of<|eos|> of<|eos|> of<|eos|> of                                                                                                                                                                                                                                                                                                                                                                                                                                                                                                                                                                                                                                                                                                                                                                                                                                                   \n",
            "Carnegie Mellon University isn’t just one of the world’s most renowned educational institutions\n",
            "– it’s also a hub for some of the most talented doers, dreamers and difference-makers on the\n",
            "planet. Carnegie Mellon is a private, internationally ranked research university with programs in\n",
            "areas ranging from science, technology and business to public policy, the humanities and the\n",
            "arts. Our community includes more than 14,000 students in the university’s seven schools and\n",
            "colleges who benefit from a small student-to-faculty ratio and an education characterized by its\n",
            "focus on innovation, interdisciplinary collaboration, and implementing solutions for real world\n",
            "problems. Our commitment to diversity, equity and inclusion is woven into all aspects of our\n",
            "campus culture, and we cultivate a vibrant, welcoming environment where everyone is valued.\n",
            "  <|eos|><|eos|><|eos|><|eos|><|eos|><|eos|><|eos|><|eos|><|eos|><|eos|><|eos|><|eos|><|eos|><|eos|><|eos|><|eos|><|eos|><|eos|><|eos|><|eos|><|eos|> of<|eos|> of<|eos|> of<|eos|> of<|eos|>                                                                                                                                                                                                                                                                                                                                                                                                                                                                                                                                                                                                                                                                                                                                                                                                                                                  \n"
          ]
        },
        {
          "output_type": "stream",
          "name": "stderr",
          "text": [
            "\n"
          ]
        }
      ]
    },
    {
      "cell_type": "code",
      "source": [
        "for x, y, mask in squad_val_loader:\n",
        "  l = len(x)\n",
        "  for j in range(l):\n",
        "    mock_input, mock_output, mock_mask = x[j].tolist(), y[j].tolist(), mask[j].tolist()\n",
        "    for i in range(len(mock_mask)):\n",
        "        context = []\n",
        "        for j in range(len(mock_mask[i])):\n",
        "            if mock_mask[i][j] == 0:\n",
        "                break\n",
        "            context.append(mock_input[j])\n",
        "        print(f\"{encoder.decode(context)} => {encoder.decode([mock_output[i]])}\")\n",
        "\n",
        "  break"
      ],
      "metadata": {
        "id": "tmfrz9MKJPRM"
      },
      "execution_count": null,
      "outputs": []
    },
    {
      "cell_type": "code",
      "source": [
        "pip install nltk"
      ],
      "metadata": {
        "colab": {
          "base_uri": "https://localhost:8080/"
        },
        "id": "gfQkG45z66vy",
        "outputId": "105a5b93-0a96-472b-dcce-d4998081e920"
      },
      "execution_count": 54,
      "outputs": [
        {
          "output_type": "stream",
          "name": "stdout",
          "text": [
            "Requirement already satisfied: nltk in /usr/local/lib/python3.10/dist-packages (3.8.1)\n",
            "Requirement already satisfied: click in /usr/local/lib/python3.10/dist-packages (from nltk) (8.1.7)\n",
            "Requirement already satisfied: joblib in /usr/local/lib/python3.10/dist-packages (from nltk) (1.3.2)\n",
            "Requirement already satisfied: regex>=2021.8.3 in /usr/local/lib/python3.10/dist-packages (from nltk) (2023.6.3)\n",
            "Requirement already satisfied: tqdm in /usr/local/lib/python3.10/dist-packages (from nltk) (4.66.1)\n"
          ]
        }
      ]
    },
    {
      "cell_type": "code",
      "source": [
        "from nltk.translate import rouge\n",
        "\n",
        "# calculate ROGUE scores\n",
        "\n",
        "for x, y, mask in squad_val_loader:\n",
        "\n",
        "  # Example reference and generated summaries\n",
        "  reference = encoder.decode(y.tolist())\n",
        "  print(y)\n",
        "  # Split the sentences into tokens\n",
        "  reference_tokens = reference.split()\n",
        "  generated_tokens = []\n",
        "\n",
        "  # Calculate ROUGE scores\n",
        "  rouge_calculator = rouge.ROUGE()\n",
        "  scores = rouge_calculator.evaluate([reference_tokens], [generated_tokens])\n",
        "\n",
        "  # Access the ROUGE scores\n",
        "  rouge_1_score = scores[\"ROUGE-1\"][0][\"r\"]\n",
        "  rouge_2_score = scores[\"ROUGE-2\"][0][\"r\"]\n",
        "  rouge_l_score = scores[\"ROUGE-L\"][0][\"r\"]\n",
        "\n",
        "  print(\"ROUGE-1 Score:\", rouge_1_score)\n",
        "  print(\"ROUGE-2 Score:\", rouge_2_score)\n",
        "  print(\"ROUGE-L Score:\", rouge_l_score)\n",
        "  break\n",
        "\n"
      ],
      "metadata": {
        "colab": {
          "base_uri": "https://localhost:8080/",
          "height": 395
        },
        "id": "we6mXYXI6bkA",
        "outputId": "957a42b1-2845-42a0-d77e-7fcbe5fa5692"
      },
      "execution_count": 55,
      "outputs": [
        {
          "output_type": "error",
          "ename": "ImportError",
          "evalue": "ignored",
          "traceback": [
            "\u001b[0;31m---------------------------------------------------------------------------\u001b[0m",
            "\u001b[0;31mImportError\u001b[0m                               Traceback (most recent call last)",
            "\u001b[0;32m<ipython-input-55-ff1b75327a26>\u001b[0m in \u001b[0;36m<cell line: 1>\u001b[0;34m()\u001b[0m\n\u001b[0;32m----> 1\u001b[0;31m \u001b[0;32mfrom\u001b[0m \u001b[0mnltk\u001b[0m\u001b[0;34m.\u001b[0m\u001b[0mtranslate\u001b[0m \u001b[0;32mimport\u001b[0m \u001b[0mrouge\u001b[0m\u001b[0;34m\u001b[0m\u001b[0;34m\u001b[0m\u001b[0m\n\u001b[0m\u001b[1;32m      2\u001b[0m \u001b[0;34m\u001b[0m\u001b[0m\n\u001b[1;32m      3\u001b[0m \u001b[0;31m# calculate ROGUE scores\u001b[0m\u001b[0;34m\u001b[0m\u001b[0;34m\u001b[0m\u001b[0m\n\u001b[1;32m      4\u001b[0m \u001b[0;34m\u001b[0m\u001b[0m\n\u001b[1;32m      5\u001b[0m \u001b[0;32mfor\u001b[0m \u001b[0mx\u001b[0m\u001b[0;34m,\u001b[0m \u001b[0my\u001b[0m\u001b[0;34m,\u001b[0m \u001b[0mmask\u001b[0m \u001b[0;32min\u001b[0m \u001b[0msquad_val_loader\u001b[0m\u001b[0;34m:\u001b[0m\u001b[0;34m\u001b[0m\u001b[0;34m\u001b[0m\u001b[0m\n",
            "\u001b[0;31mImportError\u001b[0m: cannot import name 'rouge' from 'nltk.translate' (/usr/local/lib/python3.10/dist-packages/nltk/translate/__init__.py)",
            "",
            "\u001b[0;31m---------------------------------------------------------------------------\u001b[0;32m\nNOTE: If your import is failing due to a missing package, you can\nmanually install dependencies using either !pip or !apt.\n\nTo view examples of installing some common dependencies, click the\n\"Open Examples\" button below.\n\u001b[0;31m---------------------------------------------------------------------------\u001b[0m\n"
          ],
          "errorDetails": {
            "actions": [
              {
                "action": "open_url",
                "actionText": "Open Examples",
                "url": "/notebooks/snippets/importing_libraries.ipynb"
              }
            ]
          }
        }
      ]
    },
    {
      "cell_type": "code",
      "source": [
        "pip install rouge_score"
      ],
      "metadata": {
        "colab": {
          "base_uri": "https://localhost:8080/"
        },
        "id": "kG4qN-VM7wVk",
        "outputId": "f45ea610-cd36-4ace-9025-40c1f0a10ac6"
      },
      "execution_count": 56,
      "outputs": [
        {
          "output_type": "stream",
          "name": "stdout",
          "text": [
            "Collecting rouge_score\n",
            "  Downloading rouge_score-0.1.2.tar.gz (17 kB)\n",
            "  Preparing metadata (setup.py) ... \u001b[?25l\u001b[?25hdone\n",
            "Requirement already satisfied: absl-py in /usr/local/lib/python3.10/dist-packages (from rouge_score) (1.4.0)\n",
            "Requirement already satisfied: nltk in /usr/local/lib/python3.10/dist-packages (from rouge_score) (3.8.1)\n",
            "Requirement already satisfied: numpy in /usr/local/lib/python3.10/dist-packages (from rouge_score) (1.23.5)\n",
            "Requirement already satisfied: six>=1.14.0 in /usr/local/lib/python3.10/dist-packages (from rouge_score) (1.16.0)\n",
            "Requirement already satisfied: click in /usr/local/lib/python3.10/dist-packages (from nltk->rouge_score) (8.1.7)\n",
            "Requirement already satisfied: joblib in /usr/local/lib/python3.10/dist-packages (from nltk->rouge_score) (1.3.2)\n",
            "Requirement already satisfied: regex>=2021.8.3 in /usr/local/lib/python3.10/dist-packages (from nltk->rouge_score) (2023.6.3)\n",
            "Requirement already satisfied: tqdm in /usr/local/lib/python3.10/dist-packages (from nltk->rouge_score) (4.66.1)\n",
            "Building wheels for collected packages: rouge_score\n",
            "  Building wheel for rouge_score (setup.py) ... \u001b[?25l\u001b[?25hdone\n",
            "  Created wheel for rouge_score: filename=rouge_score-0.1.2-py3-none-any.whl size=24932 sha256=38476a3393804e69d2c36114b13db8e8bcb480cb4fb9e3d9479eb6effed4aa7a\n",
            "  Stored in directory: /root/.cache/pip/wheels/5f/dd/89/461065a73be61a532ff8599a28e9beef17985c9e9c31e541b4\n",
            "Successfully built rouge_score\n",
            "Installing collected packages: rouge_score\n",
            "Successfully installed rouge_score-0.1.2\n"
          ]
        }
      ]
    },
    {
      "cell_type": "code",
      "source": [
        "from rouge_score import rouge_scorer\n",
        "scorer = rouge_scorer.RougeScorer(['rouge1', 'rougeL'])\n",
        "scores = scorer.score('hello world',\n",
        "                      'taylow swhell')\n",
        "print(scores)"
      ],
      "metadata": {
        "colab": {
          "base_uri": "https://localhost:8080/"
        },
        "id": "wZo-30zg70us",
        "outputId": "95dc55d3-4950-429b-c942-2c5e44d1ed45"
      },
      "execution_count": 66,
      "outputs": [
        {
          "output_type": "stream",
          "name": "stdout",
          "text": [
            "{'rouge1': Score(precision=0.0, recall=0.0, fmeasure=0.0), 'rougeL': Score(precision=0.0, recall=0.0, fmeasure=0.0)}\n"
          ]
        }
      ]
    }
  ],
  "metadata": {
    "accelerator": "GPU",
    "colab": {
      "gpuType": "T4",
      "provenance": []
    },
    "kernelspec": {
      "display_name": "Python 3",
      "name": "python3"
    },
    "language_info": {
      "codemirror_mode": {
        "name": "ipython",
        "version": 3
      },
      "file_extension": ".py",
      "mimetype": "text/x-python",
      "name": "python",
      "nbconvert_exporter": "python",
      "pygments_lexer": "ipython3",
      "version": "3.8.17"
    }
  },
  "nbformat": 4,
  "nbformat_minor": 0
}